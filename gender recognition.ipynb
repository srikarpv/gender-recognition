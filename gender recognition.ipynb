{
 "cells": [
  {
   "cell_type": "code",
   "execution_count": 1,
   "metadata": {
    "collapsed": true
   },
   "outputs": [],
   "source": [
    "import pandas as pd \n",
    "import numpy as np \n",
    "import sklearn as sk\n",
    "from matplotlib import pyplot as plt \n",
    "from sklearn.preprocessing import LabelEncoder \n",
    "from sklearn.model_selection import train_test_split\n",
    "from sklearn.svm import SVC\n",
    "from sklearn import svm \n",
    "from sklearn import metrics \n",
    "from sklearn.model_selection import cross_val_score\n",
    "from sklearn.preprocessing import StandardScaler \n",
    "from sklearn.model_selection import GridSearchCV\n",
    "from sklearn import tree \n",
    "from sklearn import neighbors\n",
    "from sklearn import naive_bayes\n",
    "from sklearn.metrics import classification_report\n",
    "from sklearn.ensemble import RandomForestClassifier\n",
    "from sklearn.ensemble import AdaBoostClassifier\n",
    "from sklearn.metrics import roc_curve, auc\n",
    "% matplotlib inline"
   ]
  },
  {
   "cell_type": "code",
   "execution_count": 2,
   "metadata": {},
   "outputs": [
    {
     "data": {
      "text/plain": [
       "(3168, 21)"
      ]
     },
     "execution_count": 2,
     "metadata": {},
     "output_type": "execute_result"
    }
   ],
   "source": [
    "df = pd.read_csv('/home/srikar/MLg6/voice.csv',sep=',')\n",
    "df.shape"
   ]
  },
  {
   "cell_type": "code",
   "execution_count": 3,
   "metadata": {},
   "outputs": [
    {
     "data": {
      "text/html": [
       "<div>\n",
       "<style>\n",
       "    .dataframe thead tr:only-child th {\n",
       "        text-align: right;\n",
       "    }\n",
       "\n",
       "    .dataframe thead th {\n",
       "        text-align: left;\n",
       "    }\n",
       "\n",
       "    .dataframe tbody tr th {\n",
       "        vertical-align: top;\n",
       "    }\n",
       "</style>\n",
       "<table border=\"1\" class=\"dataframe\">\n",
       "  <thead>\n",
       "    <tr style=\"text-align: right;\">\n",
       "      <th></th>\n",
       "      <th>meanfreq</th>\n",
       "      <th>sd</th>\n",
       "      <th>median</th>\n",
       "      <th>Q25</th>\n",
       "      <th>Q75</th>\n",
       "      <th>IQR</th>\n",
       "      <th>skew</th>\n",
       "      <th>kurt</th>\n",
       "      <th>sp.ent</th>\n",
       "      <th>sfm</th>\n",
       "      <th>...</th>\n",
       "      <th>centroid</th>\n",
       "      <th>meanfun</th>\n",
       "      <th>minfun</th>\n",
       "      <th>maxfun</th>\n",
       "      <th>meandom</th>\n",
       "      <th>mindom</th>\n",
       "      <th>maxdom</th>\n",
       "      <th>dfrange</th>\n",
       "      <th>modindx</th>\n",
       "      <th>label</th>\n",
       "    </tr>\n",
       "  </thead>\n",
       "  <tbody>\n",
       "    <tr>\n",
       "      <th>0</th>\n",
       "      <td>0.059781</td>\n",
       "      <td>0.064241</td>\n",
       "      <td>0.032027</td>\n",
       "      <td>0.015071</td>\n",
       "      <td>0.090193</td>\n",
       "      <td>0.075122</td>\n",
       "      <td>12.863462</td>\n",
       "      <td>274.402906</td>\n",
       "      <td>0.893369</td>\n",
       "      <td>0.491918</td>\n",
       "      <td>...</td>\n",
       "      <td>0.059781</td>\n",
       "      <td>0.084279</td>\n",
       "      <td>0.015702</td>\n",
       "      <td>0.275862</td>\n",
       "      <td>0.007812</td>\n",
       "      <td>0.007812</td>\n",
       "      <td>0.007812</td>\n",
       "      <td>0.000000</td>\n",
       "      <td>0.000000</td>\n",
       "      <td>male</td>\n",
       "    </tr>\n",
       "    <tr>\n",
       "      <th>1</th>\n",
       "      <td>0.066009</td>\n",
       "      <td>0.067310</td>\n",
       "      <td>0.040229</td>\n",
       "      <td>0.019414</td>\n",
       "      <td>0.092666</td>\n",
       "      <td>0.073252</td>\n",
       "      <td>22.423285</td>\n",
       "      <td>634.613855</td>\n",
       "      <td>0.892193</td>\n",
       "      <td>0.513724</td>\n",
       "      <td>...</td>\n",
       "      <td>0.066009</td>\n",
       "      <td>0.107937</td>\n",
       "      <td>0.015826</td>\n",
       "      <td>0.250000</td>\n",
       "      <td>0.009014</td>\n",
       "      <td>0.007812</td>\n",
       "      <td>0.054688</td>\n",
       "      <td>0.046875</td>\n",
       "      <td>0.052632</td>\n",
       "      <td>male</td>\n",
       "    </tr>\n",
       "    <tr>\n",
       "      <th>2</th>\n",
       "      <td>0.077316</td>\n",
       "      <td>0.083829</td>\n",
       "      <td>0.036718</td>\n",
       "      <td>0.008701</td>\n",
       "      <td>0.131908</td>\n",
       "      <td>0.123207</td>\n",
       "      <td>30.757155</td>\n",
       "      <td>1024.927705</td>\n",
       "      <td>0.846389</td>\n",
       "      <td>0.478905</td>\n",
       "      <td>...</td>\n",
       "      <td>0.077316</td>\n",
       "      <td>0.098706</td>\n",
       "      <td>0.015656</td>\n",
       "      <td>0.271186</td>\n",
       "      <td>0.007990</td>\n",
       "      <td>0.007812</td>\n",
       "      <td>0.015625</td>\n",
       "      <td>0.007812</td>\n",
       "      <td>0.046512</td>\n",
       "      <td>male</td>\n",
       "    </tr>\n",
       "    <tr>\n",
       "      <th>3</th>\n",
       "      <td>0.151228</td>\n",
       "      <td>0.072111</td>\n",
       "      <td>0.158011</td>\n",
       "      <td>0.096582</td>\n",
       "      <td>0.207955</td>\n",
       "      <td>0.111374</td>\n",
       "      <td>1.232831</td>\n",
       "      <td>4.177296</td>\n",
       "      <td>0.963322</td>\n",
       "      <td>0.727232</td>\n",
       "      <td>...</td>\n",
       "      <td>0.151228</td>\n",
       "      <td>0.088965</td>\n",
       "      <td>0.017798</td>\n",
       "      <td>0.250000</td>\n",
       "      <td>0.201497</td>\n",
       "      <td>0.007812</td>\n",
       "      <td>0.562500</td>\n",
       "      <td>0.554688</td>\n",
       "      <td>0.247119</td>\n",
       "      <td>male</td>\n",
       "    </tr>\n",
       "    <tr>\n",
       "      <th>4</th>\n",
       "      <td>0.135120</td>\n",
       "      <td>0.079146</td>\n",
       "      <td>0.124656</td>\n",
       "      <td>0.078720</td>\n",
       "      <td>0.206045</td>\n",
       "      <td>0.127325</td>\n",
       "      <td>1.101174</td>\n",
       "      <td>4.333713</td>\n",
       "      <td>0.971955</td>\n",
       "      <td>0.783568</td>\n",
       "      <td>...</td>\n",
       "      <td>0.135120</td>\n",
       "      <td>0.106398</td>\n",
       "      <td>0.016931</td>\n",
       "      <td>0.266667</td>\n",
       "      <td>0.712812</td>\n",
       "      <td>0.007812</td>\n",
       "      <td>5.484375</td>\n",
       "      <td>5.476562</td>\n",
       "      <td>0.208274</td>\n",
       "      <td>male</td>\n",
       "    </tr>\n",
       "  </tbody>\n",
       "</table>\n",
       "<p>5 rows × 21 columns</p>\n",
       "</div>"
      ],
      "text/plain": [
       "   meanfreq        sd    median       Q25       Q75       IQR       skew  \\\n",
       "0  0.059781  0.064241  0.032027  0.015071  0.090193  0.075122  12.863462   \n",
       "1  0.066009  0.067310  0.040229  0.019414  0.092666  0.073252  22.423285   \n",
       "2  0.077316  0.083829  0.036718  0.008701  0.131908  0.123207  30.757155   \n",
       "3  0.151228  0.072111  0.158011  0.096582  0.207955  0.111374   1.232831   \n",
       "4  0.135120  0.079146  0.124656  0.078720  0.206045  0.127325   1.101174   \n",
       "\n",
       "          kurt    sp.ent       sfm  ...    centroid   meanfun    minfun  \\\n",
       "0   274.402906  0.893369  0.491918  ...    0.059781  0.084279  0.015702   \n",
       "1   634.613855  0.892193  0.513724  ...    0.066009  0.107937  0.015826   \n",
       "2  1024.927705  0.846389  0.478905  ...    0.077316  0.098706  0.015656   \n",
       "3     4.177296  0.963322  0.727232  ...    0.151228  0.088965  0.017798   \n",
       "4     4.333713  0.971955  0.783568  ...    0.135120  0.106398  0.016931   \n",
       "\n",
       "     maxfun   meandom    mindom    maxdom   dfrange   modindx  label  \n",
       "0  0.275862  0.007812  0.007812  0.007812  0.000000  0.000000   male  \n",
       "1  0.250000  0.009014  0.007812  0.054688  0.046875  0.052632   male  \n",
       "2  0.271186  0.007990  0.007812  0.015625  0.007812  0.046512   male  \n",
       "3  0.250000  0.201497  0.007812  0.562500  0.554688  0.247119   male  \n",
       "4  0.266667  0.712812  0.007812  5.484375  5.476562  0.208274   male  \n",
       "\n",
       "[5 rows x 21 columns]"
      ]
     },
     "execution_count": 3,
     "metadata": {},
     "output_type": "execute_result"
    }
   ],
   "source": [
    "df.head()"
   ]
  },
  {
   "cell_type": "code",
   "execution_count": 4,
   "metadata": {},
   "outputs": [
    {
     "data": {
      "text/html": [
       "<div>\n",
       "<style>\n",
       "    .dataframe thead tr:only-child th {\n",
       "        text-align: right;\n",
       "    }\n",
       "\n",
       "    .dataframe thead th {\n",
       "        text-align: left;\n",
       "    }\n",
       "\n",
       "    .dataframe tbody tr th {\n",
       "        vertical-align: top;\n",
       "    }\n",
       "</style>\n",
       "<table border=\"1\" class=\"dataframe\">\n",
       "  <thead>\n",
       "    <tr style=\"text-align: right;\">\n",
       "      <th></th>\n",
       "      <th>Attribute Name</th>\n",
       "      <th>Data Type</th>\n",
       "    </tr>\n",
       "  </thead>\n",
       "  <tbody>\n",
       "    <tr>\n",
       "      <th>0</th>\n",
       "      <td>meanfreq</td>\n",
       "      <td>float64</td>\n",
       "    </tr>\n",
       "    <tr>\n",
       "      <th>1</th>\n",
       "      <td>sd</td>\n",
       "      <td>float64</td>\n",
       "    </tr>\n",
       "    <tr>\n",
       "      <th>2</th>\n",
       "      <td>median</td>\n",
       "      <td>float64</td>\n",
       "    </tr>\n",
       "    <tr>\n",
       "      <th>3</th>\n",
       "      <td>Q25</td>\n",
       "      <td>float64</td>\n",
       "    </tr>\n",
       "    <tr>\n",
       "      <th>4</th>\n",
       "      <td>Q75</td>\n",
       "      <td>float64</td>\n",
       "    </tr>\n",
       "    <tr>\n",
       "      <th>5</th>\n",
       "      <td>IQR</td>\n",
       "      <td>float64</td>\n",
       "    </tr>\n",
       "    <tr>\n",
       "      <th>6</th>\n",
       "      <td>skew</td>\n",
       "      <td>float64</td>\n",
       "    </tr>\n",
       "    <tr>\n",
       "      <th>7</th>\n",
       "      <td>kurt</td>\n",
       "      <td>float64</td>\n",
       "    </tr>\n",
       "    <tr>\n",
       "      <th>8</th>\n",
       "      <td>sp.ent</td>\n",
       "      <td>float64</td>\n",
       "    </tr>\n",
       "    <tr>\n",
       "      <th>9</th>\n",
       "      <td>sfm</td>\n",
       "      <td>float64</td>\n",
       "    </tr>\n",
       "    <tr>\n",
       "      <th>10</th>\n",
       "      <td>mode</td>\n",
       "      <td>float64</td>\n",
       "    </tr>\n",
       "    <tr>\n",
       "      <th>11</th>\n",
       "      <td>centroid</td>\n",
       "      <td>float64</td>\n",
       "    </tr>\n",
       "    <tr>\n",
       "      <th>12</th>\n",
       "      <td>meanfun</td>\n",
       "      <td>float64</td>\n",
       "    </tr>\n",
       "    <tr>\n",
       "      <th>13</th>\n",
       "      <td>minfun</td>\n",
       "      <td>float64</td>\n",
       "    </tr>\n",
       "    <tr>\n",
       "      <th>14</th>\n",
       "      <td>maxfun</td>\n",
       "      <td>float64</td>\n",
       "    </tr>\n",
       "    <tr>\n",
       "      <th>15</th>\n",
       "      <td>meandom</td>\n",
       "      <td>float64</td>\n",
       "    </tr>\n",
       "    <tr>\n",
       "      <th>16</th>\n",
       "      <td>mindom</td>\n",
       "      <td>float64</td>\n",
       "    </tr>\n",
       "    <tr>\n",
       "      <th>17</th>\n",
       "      <td>maxdom</td>\n",
       "      <td>float64</td>\n",
       "    </tr>\n",
       "    <tr>\n",
       "      <th>18</th>\n",
       "      <td>dfrange</td>\n",
       "      <td>float64</td>\n",
       "    </tr>\n",
       "    <tr>\n",
       "      <th>19</th>\n",
       "      <td>modindx</td>\n",
       "      <td>float64</td>\n",
       "    </tr>\n",
       "    <tr>\n",
       "      <th>20</th>\n",
       "      <td>label</td>\n",
       "      <td>object</td>\n",
       "    </tr>\n",
       "  </tbody>\n",
       "</table>\n",
       "</div>"
      ],
      "text/plain": [
       "   Attribute Name Data Type\n",
       "0        meanfreq   float64\n",
       "1              sd   float64\n",
       "2          median   float64\n",
       "3             Q25   float64\n",
       "4             Q75   float64\n",
       "5             IQR   float64\n",
       "6            skew   float64\n",
       "7            kurt   float64\n",
       "8          sp.ent   float64\n",
       "9             sfm   float64\n",
       "10           mode   float64\n",
       "11       centroid   float64\n",
       "12        meanfun   float64\n",
       "13         minfun   float64\n",
       "14         maxfun   float64\n",
       "15        meandom   float64\n",
       "16         mindom   float64\n",
       "17         maxdom   float64\n",
       "18        dfrange   float64\n",
       "19        modindx   float64\n",
       "20          label    object"
      ]
     },
     "execution_count": 4,
     "metadata": {},
     "output_type": "execute_result"
    }
   ],
   "source": [
    "df1 = pd.DataFrame(df.dtypes,columns=['Data Type'])\n",
    "df1 = df1.reset_index()\n",
    "df1.columns = ['Attribute Name','Data Type']\n",
    "df1"
   ]
  },
  {
   "cell_type": "code",
   "execution_count": 5,
   "metadata": {},
   "outputs": [
    {
     "data": {
      "text/html": [
       "<div>\n",
       "<style>\n",
       "    .dataframe thead tr:only-child th {\n",
       "        text-align: right;\n",
       "    }\n",
       "\n",
       "    .dataframe thead th {\n",
       "        text-align: left;\n",
       "    }\n",
       "\n",
       "    .dataframe tbody tr th {\n",
       "        vertical-align: top;\n",
       "    }\n",
       "</style>\n",
       "<table border=\"1\" class=\"dataframe\">\n",
       "  <thead>\n",
       "    <tr style=\"text-align: right;\">\n",
       "      <th></th>\n",
       "      <th>meanfreq</th>\n",
       "      <th>sd</th>\n",
       "      <th>median</th>\n",
       "      <th>Q25</th>\n",
       "      <th>Q75</th>\n",
       "      <th>IQR</th>\n",
       "      <th>skew</th>\n",
       "      <th>kurt</th>\n",
       "      <th>sp.ent</th>\n",
       "      <th>sfm</th>\n",
       "      <th>mode</th>\n",
       "      <th>centroid</th>\n",
       "      <th>meanfun</th>\n",
       "      <th>minfun</th>\n",
       "      <th>maxfun</th>\n",
       "      <th>meandom</th>\n",
       "      <th>mindom</th>\n",
       "      <th>maxdom</th>\n",
       "      <th>dfrange</th>\n",
       "      <th>modindx</th>\n",
       "    </tr>\n",
       "  </thead>\n",
       "  <tbody>\n",
       "    <tr>\n",
       "      <th>count</th>\n",
       "      <td>3168.000000</td>\n",
       "      <td>3168.000000</td>\n",
       "      <td>3168.000000</td>\n",
       "      <td>3168.000000</td>\n",
       "      <td>3168.000000</td>\n",
       "      <td>3168.000000</td>\n",
       "      <td>3168.000000</td>\n",
       "      <td>3168.000000</td>\n",
       "      <td>3168.000000</td>\n",
       "      <td>3168.000000</td>\n",
       "      <td>3168.000000</td>\n",
       "      <td>3168.000000</td>\n",
       "      <td>3168.000000</td>\n",
       "      <td>3168.000000</td>\n",
       "      <td>3168.000000</td>\n",
       "      <td>3168.000000</td>\n",
       "      <td>3168.000000</td>\n",
       "      <td>3168.000000</td>\n",
       "      <td>3168.000000</td>\n",
       "      <td>3168.000000</td>\n",
       "    </tr>\n",
       "    <tr>\n",
       "      <th>mean</th>\n",
       "      <td>0.180907</td>\n",
       "      <td>0.057126</td>\n",
       "      <td>0.185621</td>\n",
       "      <td>0.140456</td>\n",
       "      <td>0.224765</td>\n",
       "      <td>0.084309</td>\n",
       "      <td>3.140168</td>\n",
       "      <td>36.568461</td>\n",
       "      <td>0.895127</td>\n",
       "      <td>0.408216</td>\n",
       "      <td>0.165282</td>\n",
       "      <td>0.180907</td>\n",
       "      <td>0.142807</td>\n",
       "      <td>0.036802</td>\n",
       "      <td>0.258842</td>\n",
       "      <td>0.829211</td>\n",
       "      <td>0.052647</td>\n",
       "      <td>5.047277</td>\n",
       "      <td>4.994630</td>\n",
       "      <td>0.173752</td>\n",
       "    </tr>\n",
       "    <tr>\n",
       "      <th>std</th>\n",
       "      <td>0.029918</td>\n",
       "      <td>0.016652</td>\n",
       "      <td>0.036360</td>\n",
       "      <td>0.048680</td>\n",
       "      <td>0.023639</td>\n",
       "      <td>0.042783</td>\n",
       "      <td>4.240529</td>\n",
       "      <td>134.928661</td>\n",
       "      <td>0.044980</td>\n",
       "      <td>0.177521</td>\n",
       "      <td>0.077203</td>\n",
       "      <td>0.029918</td>\n",
       "      <td>0.032304</td>\n",
       "      <td>0.019220</td>\n",
       "      <td>0.030077</td>\n",
       "      <td>0.525205</td>\n",
       "      <td>0.063299</td>\n",
       "      <td>3.521157</td>\n",
       "      <td>3.520039</td>\n",
       "      <td>0.119454</td>\n",
       "    </tr>\n",
       "    <tr>\n",
       "      <th>min</th>\n",
       "      <td>0.039363</td>\n",
       "      <td>0.018363</td>\n",
       "      <td>0.010975</td>\n",
       "      <td>0.000229</td>\n",
       "      <td>0.042946</td>\n",
       "      <td>0.014558</td>\n",
       "      <td>0.141735</td>\n",
       "      <td>2.068455</td>\n",
       "      <td>0.738651</td>\n",
       "      <td>0.036876</td>\n",
       "      <td>0.000000</td>\n",
       "      <td>0.039363</td>\n",
       "      <td>0.055565</td>\n",
       "      <td>0.009775</td>\n",
       "      <td>0.103093</td>\n",
       "      <td>0.007812</td>\n",
       "      <td>0.004883</td>\n",
       "      <td>0.007812</td>\n",
       "      <td>0.000000</td>\n",
       "      <td>0.000000</td>\n",
       "    </tr>\n",
       "    <tr>\n",
       "      <th>25%</th>\n",
       "      <td>0.163662</td>\n",
       "      <td>0.041954</td>\n",
       "      <td>0.169593</td>\n",
       "      <td>0.111087</td>\n",
       "      <td>0.208747</td>\n",
       "      <td>0.042560</td>\n",
       "      <td>1.649569</td>\n",
       "      <td>5.669547</td>\n",
       "      <td>0.861811</td>\n",
       "      <td>0.258041</td>\n",
       "      <td>0.118016</td>\n",
       "      <td>0.163662</td>\n",
       "      <td>0.116998</td>\n",
       "      <td>0.018223</td>\n",
       "      <td>0.253968</td>\n",
       "      <td>0.419828</td>\n",
       "      <td>0.007812</td>\n",
       "      <td>2.070312</td>\n",
       "      <td>2.044922</td>\n",
       "      <td>0.099766</td>\n",
       "    </tr>\n",
       "    <tr>\n",
       "      <th>50%</th>\n",
       "      <td>0.184838</td>\n",
       "      <td>0.059155</td>\n",
       "      <td>0.190032</td>\n",
       "      <td>0.140286</td>\n",
       "      <td>0.225684</td>\n",
       "      <td>0.094280</td>\n",
       "      <td>2.197101</td>\n",
       "      <td>8.318463</td>\n",
       "      <td>0.901767</td>\n",
       "      <td>0.396335</td>\n",
       "      <td>0.186599</td>\n",
       "      <td>0.184838</td>\n",
       "      <td>0.140519</td>\n",
       "      <td>0.046110</td>\n",
       "      <td>0.271186</td>\n",
       "      <td>0.765795</td>\n",
       "      <td>0.023438</td>\n",
       "      <td>4.992188</td>\n",
       "      <td>4.945312</td>\n",
       "      <td>0.139357</td>\n",
       "    </tr>\n",
       "    <tr>\n",
       "      <th>75%</th>\n",
       "      <td>0.199146</td>\n",
       "      <td>0.067020</td>\n",
       "      <td>0.210618</td>\n",
       "      <td>0.175939</td>\n",
       "      <td>0.243660</td>\n",
       "      <td>0.114175</td>\n",
       "      <td>2.931694</td>\n",
       "      <td>13.648905</td>\n",
       "      <td>0.928713</td>\n",
       "      <td>0.533676</td>\n",
       "      <td>0.221104</td>\n",
       "      <td>0.199146</td>\n",
       "      <td>0.169581</td>\n",
       "      <td>0.047904</td>\n",
       "      <td>0.277457</td>\n",
       "      <td>1.177166</td>\n",
       "      <td>0.070312</td>\n",
       "      <td>7.007812</td>\n",
       "      <td>6.992188</td>\n",
       "      <td>0.209183</td>\n",
       "    </tr>\n",
       "    <tr>\n",
       "      <th>max</th>\n",
       "      <td>0.251124</td>\n",
       "      <td>0.115273</td>\n",
       "      <td>0.261224</td>\n",
       "      <td>0.247347</td>\n",
       "      <td>0.273469</td>\n",
       "      <td>0.252225</td>\n",
       "      <td>34.725453</td>\n",
       "      <td>1309.612887</td>\n",
       "      <td>0.981997</td>\n",
       "      <td>0.842936</td>\n",
       "      <td>0.280000</td>\n",
       "      <td>0.251124</td>\n",
       "      <td>0.237636</td>\n",
       "      <td>0.204082</td>\n",
       "      <td>0.279114</td>\n",
       "      <td>2.957682</td>\n",
       "      <td>0.458984</td>\n",
       "      <td>21.867188</td>\n",
       "      <td>21.843750</td>\n",
       "      <td>0.932374</td>\n",
       "    </tr>\n",
       "  </tbody>\n",
       "</table>\n",
       "</div>"
      ],
      "text/plain": [
       "          meanfreq           sd       median          Q25          Q75  \\\n",
       "count  3168.000000  3168.000000  3168.000000  3168.000000  3168.000000   \n",
       "mean      0.180907     0.057126     0.185621     0.140456     0.224765   \n",
       "std       0.029918     0.016652     0.036360     0.048680     0.023639   \n",
       "min       0.039363     0.018363     0.010975     0.000229     0.042946   \n",
       "25%       0.163662     0.041954     0.169593     0.111087     0.208747   \n",
       "50%       0.184838     0.059155     0.190032     0.140286     0.225684   \n",
       "75%       0.199146     0.067020     0.210618     0.175939     0.243660   \n",
       "max       0.251124     0.115273     0.261224     0.247347     0.273469   \n",
       "\n",
       "               IQR         skew         kurt       sp.ent          sfm  \\\n",
       "count  3168.000000  3168.000000  3168.000000  3168.000000  3168.000000   \n",
       "mean      0.084309     3.140168    36.568461     0.895127     0.408216   \n",
       "std       0.042783     4.240529   134.928661     0.044980     0.177521   \n",
       "min       0.014558     0.141735     2.068455     0.738651     0.036876   \n",
       "25%       0.042560     1.649569     5.669547     0.861811     0.258041   \n",
       "50%       0.094280     2.197101     8.318463     0.901767     0.396335   \n",
       "75%       0.114175     2.931694    13.648905     0.928713     0.533676   \n",
       "max       0.252225    34.725453  1309.612887     0.981997     0.842936   \n",
       "\n",
       "              mode     centroid      meanfun       minfun       maxfun  \\\n",
       "count  3168.000000  3168.000000  3168.000000  3168.000000  3168.000000   \n",
       "mean      0.165282     0.180907     0.142807     0.036802     0.258842   \n",
       "std       0.077203     0.029918     0.032304     0.019220     0.030077   \n",
       "min       0.000000     0.039363     0.055565     0.009775     0.103093   \n",
       "25%       0.118016     0.163662     0.116998     0.018223     0.253968   \n",
       "50%       0.186599     0.184838     0.140519     0.046110     0.271186   \n",
       "75%       0.221104     0.199146     0.169581     0.047904     0.277457   \n",
       "max       0.280000     0.251124     0.237636     0.204082     0.279114   \n",
       "\n",
       "           meandom       mindom       maxdom      dfrange      modindx  \n",
       "count  3168.000000  3168.000000  3168.000000  3168.000000  3168.000000  \n",
       "mean      0.829211     0.052647     5.047277     4.994630     0.173752  \n",
       "std       0.525205     0.063299     3.521157     3.520039     0.119454  \n",
       "min       0.007812     0.004883     0.007812     0.000000     0.000000  \n",
       "25%       0.419828     0.007812     2.070312     2.044922     0.099766  \n",
       "50%       0.765795     0.023438     4.992188     4.945312     0.139357  \n",
       "75%       1.177166     0.070312     7.007812     6.992188     0.209183  \n",
       "max       2.957682     0.458984    21.867188    21.843750     0.932374  "
      ]
     },
     "execution_count": 5,
     "metadata": {},
     "output_type": "execute_result"
    }
   ],
   "source": [
    "df.describe()"
   ]
  },
  {
   "cell_type": "code",
   "execution_count": 6,
   "metadata": {},
   "outputs": [
    {
     "data": {
      "text/html": [
       "<div>\n",
       "<style>\n",
       "    .dataframe thead tr:only-child th {\n",
       "        text-align: right;\n",
       "    }\n",
       "\n",
       "    .dataframe thead th {\n",
       "        text-align: left;\n",
       "    }\n",
       "\n",
       "    .dataframe tbody tr th {\n",
       "        vertical-align: top;\n",
       "    }\n",
       "</style>\n",
       "<table border=\"1\" class=\"dataframe\">\n",
       "  <thead>\n",
       "    <tr style=\"text-align: right;\">\n",
       "      <th></th>\n",
       "      <th>meanfreq</th>\n",
       "      <th>sd</th>\n",
       "      <th>median</th>\n",
       "      <th>Q25</th>\n",
       "      <th>Q75</th>\n",
       "      <th>IQR</th>\n",
       "      <th>skew</th>\n",
       "      <th>kurt</th>\n",
       "      <th>sp.ent</th>\n",
       "      <th>sfm</th>\n",
       "      <th>mode</th>\n",
       "      <th>centroid</th>\n",
       "      <th>meanfun</th>\n",
       "      <th>minfun</th>\n",
       "      <th>maxfun</th>\n",
       "      <th>meandom</th>\n",
       "      <th>mindom</th>\n",
       "      <th>maxdom</th>\n",
       "      <th>dfrange</th>\n",
       "      <th>modindx</th>\n",
       "    </tr>\n",
       "  </thead>\n",
       "  <tbody>\n",
       "    <tr>\n",
       "      <th>meanfreq</th>\n",
       "      <td>1.000000</td>\n",
       "      <td>-0.739039</td>\n",
       "      <td>0.925445</td>\n",
       "      <td>0.911416</td>\n",
       "      <td>0.740997</td>\n",
       "      <td>-0.627605</td>\n",
       "      <td>-0.322327</td>\n",
       "      <td>-0.316036</td>\n",
       "      <td>-0.601203</td>\n",
       "      <td>-0.784332</td>\n",
       "      <td>0.687715</td>\n",
       "      <td>1.000000</td>\n",
       "      <td>0.460844</td>\n",
       "      <td>0.383937</td>\n",
       "      <td>0.274004</td>\n",
       "      <td>0.536666</td>\n",
       "      <td>0.229261</td>\n",
       "      <td>0.519528</td>\n",
       "      <td>0.515570</td>\n",
       "      <td>-0.216979</td>\n",
       "    </tr>\n",
       "    <tr>\n",
       "      <th>sd</th>\n",
       "      <td>-0.739039</td>\n",
       "      <td>1.000000</td>\n",
       "      <td>-0.562603</td>\n",
       "      <td>-0.846931</td>\n",
       "      <td>-0.161076</td>\n",
       "      <td>0.874660</td>\n",
       "      <td>0.314597</td>\n",
       "      <td>0.346241</td>\n",
       "      <td>0.716620</td>\n",
       "      <td>0.838086</td>\n",
       "      <td>-0.529150</td>\n",
       "      <td>-0.739039</td>\n",
       "      <td>-0.466281</td>\n",
       "      <td>-0.345609</td>\n",
       "      <td>-0.129662</td>\n",
       "      <td>-0.482726</td>\n",
       "      <td>-0.357667</td>\n",
       "      <td>-0.482278</td>\n",
       "      <td>-0.475999</td>\n",
       "      <td>0.122660</td>\n",
       "    </tr>\n",
       "    <tr>\n",
       "      <th>median</th>\n",
       "      <td>0.925445</td>\n",
       "      <td>-0.562603</td>\n",
       "      <td>1.000000</td>\n",
       "      <td>0.774922</td>\n",
       "      <td>0.731849</td>\n",
       "      <td>-0.477352</td>\n",
       "      <td>-0.257407</td>\n",
       "      <td>-0.243382</td>\n",
       "      <td>-0.502005</td>\n",
       "      <td>-0.661690</td>\n",
       "      <td>0.677433</td>\n",
       "      <td>0.925445</td>\n",
       "      <td>0.414909</td>\n",
       "      <td>0.337602</td>\n",
       "      <td>0.251328</td>\n",
       "      <td>0.455943</td>\n",
       "      <td>0.191169</td>\n",
       "      <td>0.438919</td>\n",
       "      <td>0.435621</td>\n",
       "      <td>-0.213298</td>\n",
       "    </tr>\n",
       "    <tr>\n",
       "      <th>Q25</th>\n",
       "      <td>0.911416</td>\n",
       "      <td>-0.846931</td>\n",
       "      <td>0.774922</td>\n",
       "      <td>1.000000</td>\n",
       "      <td>0.477140</td>\n",
       "      <td>-0.874189</td>\n",
       "      <td>-0.319475</td>\n",
       "      <td>-0.350182</td>\n",
       "      <td>-0.648126</td>\n",
       "      <td>-0.766875</td>\n",
       "      <td>0.591277</td>\n",
       "      <td>0.911416</td>\n",
       "      <td>0.545035</td>\n",
       "      <td>0.320994</td>\n",
       "      <td>0.199841</td>\n",
       "      <td>0.467403</td>\n",
       "      <td>0.302255</td>\n",
       "      <td>0.459683</td>\n",
       "      <td>0.454394</td>\n",
       "      <td>-0.141377</td>\n",
       "    </tr>\n",
       "    <tr>\n",
       "      <th>Q75</th>\n",
       "      <td>0.740997</td>\n",
       "      <td>-0.161076</td>\n",
       "      <td>0.731849</td>\n",
       "      <td>0.477140</td>\n",
       "      <td>1.000000</td>\n",
       "      <td>0.009636</td>\n",
       "      <td>-0.206339</td>\n",
       "      <td>-0.148881</td>\n",
       "      <td>-0.174905</td>\n",
       "      <td>-0.378198</td>\n",
       "      <td>0.486857</td>\n",
       "      <td>0.740997</td>\n",
       "      <td>0.155091</td>\n",
       "      <td>0.258002</td>\n",
       "      <td>0.285584</td>\n",
       "      <td>0.359181</td>\n",
       "      <td>-0.023750</td>\n",
       "      <td>0.335114</td>\n",
       "      <td>0.335648</td>\n",
       "      <td>-0.216475</td>\n",
       "    </tr>\n",
       "    <tr>\n",
       "      <th>IQR</th>\n",
       "      <td>-0.627605</td>\n",
       "      <td>0.874660</td>\n",
       "      <td>-0.477352</td>\n",
       "      <td>-0.874189</td>\n",
       "      <td>0.009636</td>\n",
       "      <td>1.000000</td>\n",
       "      <td>0.249497</td>\n",
       "      <td>0.316185</td>\n",
       "      <td>0.640813</td>\n",
       "      <td>0.663601</td>\n",
       "      <td>-0.403764</td>\n",
       "      <td>-0.627605</td>\n",
       "      <td>-0.534462</td>\n",
       "      <td>-0.222680</td>\n",
       "      <td>-0.069588</td>\n",
       "      <td>-0.333362</td>\n",
       "      <td>-0.357037</td>\n",
       "      <td>-0.337877</td>\n",
       "      <td>-0.331563</td>\n",
       "      <td>0.041252</td>\n",
       "    </tr>\n",
       "    <tr>\n",
       "      <th>skew</th>\n",
       "      <td>-0.322327</td>\n",
       "      <td>0.314597</td>\n",
       "      <td>-0.257407</td>\n",
       "      <td>-0.319475</td>\n",
       "      <td>-0.206339</td>\n",
       "      <td>0.249497</td>\n",
       "      <td>1.000000</td>\n",
       "      <td>0.977020</td>\n",
       "      <td>-0.195459</td>\n",
       "      <td>0.079694</td>\n",
       "      <td>-0.434859</td>\n",
       "      <td>-0.322327</td>\n",
       "      <td>-0.167668</td>\n",
       "      <td>-0.216954</td>\n",
       "      <td>-0.080861</td>\n",
       "      <td>-0.336848</td>\n",
       "      <td>-0.061608</td>\n",
       "      <td>-0.305651</td>\n",
       "      <td>-0.304640</td>\n",
       "      <td>-0.169325</td>\n",
       "    </tr>\n",
       "    <tr>\n",
       "      <th>kurt</th>\n",
       "      <td>-0.316036</td>\n",
       "      <td>0.346241</td>\n",
       "      <td>-0.243382</td>\n",
       "      <td>-0.350182</td>\n",
       "      <td>-0.148881</td>\n",
       "      <td>0.316185</td>\n",
       "      <td>0.977020</td>\n",
       "      <td>1.000000</td>\n",
       "      <td>-0.127644</td>\n",
       "      <td>0.109884</td>\n",
       "      <td>-0.406722</td>\n",
       "      <td>-0.316036</td>\n",
       "      <td>-0.194560</td>\n",
       "      <td>-0.203201</td>\n",
       "      <td>-0.045667</td>\n",
       "      <td>-0.303234</td>\n",
       "      <td>-0.103313</td>\n",
       "      <td>-0.274500</td>\n",
       "      <td>-0.272729</td>\n",
       "      <td>-0.205539</td>\n",
       "    </tr>\n",
       "    <tr>\n",
       "      <th>sp.ent</th>\n",
       "      <td>-0.601203</td>\n",
       "      <td>0.716620</td>\n",
       "      <td>-0.502005</td>\n",
       "      <td>-0.648126</td>\n",
       "      <td>-0.174905</td>\n",
       "      <td>0.640813</td>\n",
       "      <td>-0.195459</td>\n",
       "      <td>-0.127644</td>\n",
       "      <td>1.000000</td>\n",
       "      <td>0.866411</td>\n",
       "      <td>-0.325298</td>\n",
       "      <td>-0.601203</td>\n",
       "      <td>-0.513194</td>\n",
       "      <td>-0.305826</td>\n",
       "      <td>-0.120738</td>\n",
       "      <td>-0.293562</td>\n",
       "      <td>-0.294869</td>\n",
       "      <td>-0.324253</td>\n",
       "      <td>-0.319054</td>\n",
       "      <td>0.198074</td>\n",
       "    </tr>\n",
       "    <tr>\n",
       "      <th>sfm</th>\n",
       "      <td>-0.784332</td>\n",
       "      <td>0.838086</td>\n",
       "      <td>-0.661690</td>\n",
       "      <td>-0.766875</td>\n",
       "      <td>-0.378198</td>\n",
       "      <td>0.663601</td>\n",
       "      <td>0.079694</td>\n",
       "      <td>0.109884</td>\n",
       "      <td>0.866411</td>\n",
       "      <td>1.000000</td>\n",
       "      <td>-0.485913</td>\n",
       "      <td>-0.784332</td>\n",
       "      <td>-0.421066</td>\n",
       "      <td>-0.362100</td>\n",
       "      <td>-0.192369</td>\n",
       "      <td>-0.428442</td>\n",
       "      <td>-0.289593</td>\n",
       "      <td>-0.436649</td>\n",
       "      <td>-0.431580</td>\n",
       "      <td>0.211477</td>\n",
       "    </tr>\n",
       "    <tr>\n",
       "      <th>mode</th>\n",
       "      <td>0.687715</td>\n",
       "      <td>-0.529150</td>\n",
       "      <td>0.677433</td>\n",
       "      <td>0.591277</td>\n",
       "      <td>0.486857</td>\n",
       "      <td>-0.403764</td>\n",
       "      <td>-0.434859</td>\n",
       "      <td>-0.406722</td>\n",
       "      <td>-0.325298</td>\n",
       "      <td>-0.485913</td>\n",
       "      <td>1.000000</td>\n",
       "      <td>0.687715</td>\n",
       "      <td>0.324771</td>\n",
       "      <td>0.385467</td>\n",
       "      <td>0.172329</td>\n",
       "      <td>0.491479</td>\n",
       "      <td>0.198150</td>\n",
       "      <td>0.477187</td>\n",
       "      <td>0.473775</td>\n",
       "      <td>-0.182344</td>\n",
       "    </tr>\n",
       "    <tr>\n",
       "      <th>centroid</th>\n",
       "      <td>1.000000</td>\n",
       "      <td>-0.739039</td>\n",
       "      <td>0.925445</td>\n",
       "      <td>0.911416</td>\n",
       "      <td>0.740997</td>\n",
       "      <td>-0.627605</td>\n",
       "      <td>-0.322327</td>\n",
       "      <td>-0.316036</td>\n",
       "      <td>-0.601203</td>\n",
       "      <td>-0.784332</td>\n",
       "      <td>0.687715</td>\n",
       "      <td>1.000000</td>\n",
       "      <td>0.460844</td>\n",
       "      <td>0.383937</td>\n",
       "      <td>0.274004</td>\n",
       "      <td>0.536666</td>\n",
       "      <td>0.229261</td>\n",
       "      <td>0.519528</td>\n",
       "      <td>0.515570</td>\n",
       "      <td>-0.216979</td>\n",
       "    </tr>\n",
       "    <tr>\n",
       "      <th>meanfun</th>\n",
       "      <td>0.460844</td>\n",
       "      <td>-0.466281</td>\n",
       "      <td>0.414909</td>\n",
       "      <td>0.545035</td>\n",
       "      <td>0.155091</td>\n",
       "      <td>-0.534462</td>\n",
       "      <td>-0.167668</td>\n",
       "      <td>-0.194560</td>\n",
       "      <td>-0.513194</td>\n",
       "      <td>-0.421066</td>\n",
       "      <td>0.324771</td>\n",
       "      <td>0.460844</td>\n",
       "      <td>1.000000</td>\n",
       "      <td>0.339387</td>\n",
       "      <td>0.311950</td>\n",
       "      <td>0.270840</td>\n",
       "      <td>0.162163</td>\n",
       "      <td>0.277982</td>\n",
       "      <td>0.275154</td>\n",
       "      <td>-0.054858</td>\n",
       "    </tr>\n",
       "    <tr>\n",
       "      <th>minfun</th>\n",
       "      <td>0.383937</td>\n",
       "      <td>-0.345609</td>\n",
       "      <td>0.337602</td>\n",
       "      <td>0.320994</td>\n",
       "      <td>0.258002</td>\n",
       "      <td>-0.222680</td>\n",
       "      <td>-0.216954</td>\n",
       "      <td>-0.203201</td>\n",
       "      <td>-0.305826</td>\n",
       "      <td>-0.362100</td>\n",
       "      <td>0.385467</td>\n",
       "      <td>0.383937</td>\n",
       "      <td>0.339387</td>\n",
       "      <td>1.000000</td>\n",
       "      <td>0.213987</td>\n",
       "      <td>0.375979</td>\n",
       "      <td>0.082015</td>\n",
       "      <td>0.317860</td>\n",
       "      <td>0.316486</td>\n",
       "      <td>0.002042</td>\n",
       "    </tr>\n",
       "    <tr>\n",
       "      <th>maxfun</th>\n",
       "      <td>0.274004</td>\n",
       "      <td>-0.129662</td>\n",
       "      <td>0.251328</td>\n",
       "      <td>0.199841</td>\n",
       "      <td>0.285584</td>\n",
       "      <td>-0.069588</td>\n",
       "      <td>-0.080861</td>\n",
       "      <td>-0.045667</td>\n",
       "      <td>-0.120738</td>\n",
       "      <td>-0.192369</td>\n",
       "      <td>0.172329</td>\n",
       "      <td>0.274004</td>\n",
       "      <td>0.311950</td>\n",
       "      <td>0.213987</td>\n",
       "      <td>1.000000</td>\n",
       "      <td>0.337553</td>\n",
       "      <td>-0.243426</td>\n",
       "      <td>0.355390</td>\n",
       "      <td>0.359880</td>\n",
       "      <td>-0.363029</td>\n",
       "    </tr>\n",
       "    <tr>\n",
       "      <th>meandom</th>\n",
       "      <td>0.536666</td>\n",
       "      <td>-0.482726</td>\n",
       "      <td>0.455943</td>\n",
       "      <td>0.467403</td>\n",
       "      <td>0.359181</td>\n",
       "      <td>-0.333362</td>\n",
       "      <td>-0.336848</td>\n",
       "      <td>-0.303234</td>\n",
       "      <td>-0.293562</td>\n",
       "      <td>-0.428442</td>\n",
       "      <td>0.491479</td>\n",
       "      <td>0.536666</td>\n",
       "      <td>0.270840</td>\n",
       "      <td>0.375979</td>\n",
       "      <td>0.337553</td>\n",
       "      <td>1.000000</td>\n",
       "      <td>0.099656</td>\n",
       "      <td>0.812838</td>\n",
       "      <td>0.811304</td>\n",
       "      <td>-0.180954</td>\n",
       "    </tr>\n",
       "    <tr>\n",
       "      <th>mindom</th>\n",
       "      <td>0.229261</td>\n",
       "      <td>-0.357667</td>\n",
       "      <td>0.191169</td>\n",
       "      <td>0.302255</td>\n",
       "      <td>-0.023750</td>\n",
       "      <td>-0.357037</td>\n",
       "      <td>-0.061608</td>\n",
       "      <td>-0.103313</td>\n",
       "      <td>-0.294869</td>\n",
       "      <td>-0.289593</td>\n",
       "      <td>0.198150</td>\n",
       "      <td>0.229261</td>\n",
       "      <td>0.162163</td>\n",
       "      <td>0.082015</td>\n",
       "      <td>-0.243426</td>\n",
       "      <td>0.099656</td>\n",
       "      <td>1.000000</td>\n",
       "      <td>0.026640</td>\n",
       "      <td>0.008666</td>\n",
       "      <td>0.200212</td>\n",
       "    </tr>\n",
       "    <tr>\n",
       "      <th>maxdom</th>\n",
       "      <td>0.519528</td>\n",
       "      <td>-0.482278</td>\n",
       "      <td>0.438919</td>\n",
       "      <td>0.459683</td>\n",
       "      <td>0.335114</td>\n",
       "      <td>-0.337877</td>\n",
       "      <td>-0.305651</td>\n",
       "      <td>-0.274500</td>\n",
       "      <td>-0.324253</td>\n",
       "      <td>-0.436649</td>\n",
       "      <td>0.477187</td>\n",
       "      <td>0.519528</td>\n",
       "      <td>0.277982</td>\n",
       "      <td>0.317860</td>\n",
       "      <td>0.355390</td>\n",
       "      <td>0.812838</td>\n",
       "      <td>0.026640</td>\n",
       "      <td>1.000000</td>\n",
       "      <td>0.999838</td>\n",
       "      <td>-0.425531</td>\n",
       "    </tr>\n",
       "    <tr>\n",
       "      <th>dfrange</th>\n",
       "      <td>0.515570</td>\n",
       "      <td>-0.475999</td>\n",
       "      <td>0.435621</td>\n",
       "      <td>0.454394</td>\n",
       "      <td>0.335648</td>\n",
       "      <td>-0.331563</td>\n",
       "      <td>-0.304640</td>\n",
       "      <td>-0.272729</td>\n",
       "      <td>-0.319054</td>\n",
       "      <td>-0.431580</td>\n",
       "      <td>0.473775</td>\n",
       "      <td>0.515570</td>\n",
       "      <td>0.275154</td>\n",
       "      <td>0.316486</td>\n",
       "      <td>0.359880</td>\n",
       "      <td>0.811304</td>\n",
       "      <td>0.008666</td>\n",
       "      <td>0.999838</td>\n",
       "      <td>1.000000</td>\n",
       "      <td>-0.429266</td>\n",
       "    </tr>\n",
       "    <tr>\n",
       "      <th>modindx</th>\n",
       "      <td>-0.216979</td>\n",
       "      <td>0.122660</td>\n",
       "      <td>-0.213298</td>\n",
       "      <td>-0.141377</td>\n",
       "      <td>-0.216475</td>\n",
       "      <td>0.041252</td>\n",
       "      <td>-0.169325</td>\n",
       "      <td>-0.205539</td>\n",
       "      <td>0.198074</td>\n",
       "      <td>0.211477</td>\n",
       "      <td>-0.182344</td>\n",
       "      <td>-0.216979</td>\n",
       "      <td>-0.054858</td>\n",
       "      <td>0.002042</td>\n",
       "      <td>-0.363029</td>\n",
       "      <td>-0.180954</td>\n",
       "      <td>0.200212</td>\n",
       "      <td>-0.425531</td>\n",
       "      <td>-0.429266</td>\n",
       "      <td>1.000000</td>\n",
       "    </tr>\n",
       "  </tbody>\n",
       "</table>\n",
       "</div>"
      ],
      "text/plain": [
       "          meanfreq        sd    median       Q25       Q75       IQR  \\\n",
       "meanfreq  1.000000 -0.739039  0.925445  0.911416  0.740997 -0.627605   \n",
       "sd       -0.739039  1.000000 -0.562603 -0.846931 -0.161076  0.874660   \n",
       "median    0.925445 -0.562603  1.000000  0.774922  0.731849 -0.477352   \n",
       "Q25       0.911416 -0.846931  0.774922  1.000000  0.477140 -0.874189   \n",
       "Q75       0.740997 -0.161076  0.731849  0.477140  1.000000  0.009636   \n",
       "IQR      -0.627605  0.874660 -0.477352 -0.874189  0.009636  1.000000   \n",
       "skew     -0.322327  0.314597 -0.257407 -0.319475 -0.206339  0.249497   \n",
       "kurt     -0.316036  0.346241 -0.243382 -0.350182 -0.148881  0.316185   \n",
       "sp.ent   -0.601203  0.716620 -0.502005 -0.648126 -0.174905  0.640813   \n",
       "sfm      -0.784332  0.838086 -0.661690 -0.766875 -0.378198  0.663601   \n",
       "mode      0.687715 -0.529150  0.677433  0.591277  0.486857 -0.403764   \n",
       "centroid  1.000000 -0.739039  0.925445  0.911416  0.740997 -0.627605   \n",
       "meanfun   0.460844 -0.466281  0.414909  0.545035  0.155091 -0.534462   \n",
       "minfun    0.383937 -0.345609  0.337602  0.320994  0.258002 -0.222680   \n",
       "maxfun    0.274004 -0.129662  0.251328  0.199841  0.285584 -0.069588   \n",
       "meandom   0.536666 -0.482726  0.455943  0.467403  0.359181 -0.333362   \n",
       "mindom    0.229261 -0.357667  0.191169  0.302255 -0.023750 -0.357037   \n",
       "maxdom    0.519528 -0.482278  0.438919  0.459683  0.335114 -0.337877   \n",
       "dfrange   0.515570 -0.475999  0.435621  0.454394  0.335648 -0.331563   \n",
       "modindx  -0.216979  0.122660 -0.213298 -0.141377 -0.216475  0.041252   \n",
       "\n",
       "              skew      kurt    sp.ent       sfm      mode  centroid  \\\n",
       "meanfreq -0.322327 -0.316036 -0.601203 -0.784332  0.687715  1.000000   \n",
       "sd        0.314597  0.346241  0.716620  0.838086 -0.529150 -0.739039   \n",
       "median   -0.257407 -0.243382 -0.502005 -0.661690  0.677433  0.925445   \n",
       "Q25      -0.319475 -0.350182 -0.648126 -0.766875  0.591277  0.911416   \n",
       "Q75      -0.206339 -0.148881 -0.174905 -0.378198  0.486857  0.740997   \n",
       "IQR       0.249497  0.316185  0.640813  0.663601 -0.403764 -0.627605   \n",
       "skew      1.000000  0.977020 -0.195459  0.079694 -0.434859 -0.322327   \n",
       "kurt      0.977020  1.000000 -0.127644  0.109884 -0.406722 -0.316036   \n",
       "sp.ent   -0.195459 -0.127644  1.000000  0.866411 -0.325298 -0.601203   \n",
       "sfm       0.079694  0.109884  0.866411  1.000000 -0.485913 -0.784332   \n",
       "mode     -0.434859 -0.406722 -0.325298 -0.485913  1.000000  0.687715   \n",
       "centroid -0.322327 -0.316036 -0.601203 -0.784332  0.687715  1.000000   \n",
       "meanfun  -0.167668 -0.194560 -0.513194 -0.421066  0.324771  0.460844   \n",
       "minfun   -0.216954 -0.203201 -0.305826 -0.362100  0.385467  0.383937   \n",
       "maxfun   -0.080861 -0.045667 -0.120738 -0.192369  0.172329  0.274004   \n",
       "meandom  -0.336848 -0.303234 -0.293562 -0.428442  0.491479  0.536666   \n",
       "mindom   -0.061608 -0.103313 -0.294869 -0.289593  0.198150  0.229261   \n",
       "maxdom   -0.305651 -0.274500 -0.324253 -0.436649  0.477187  0.519528   \n",
       "dfrange  -0.304640 -0.272729 -0.319054 -0.431580  0.473775  0.515570   \n",
       "modindx  -0.169325 -0.205539  0.198074  0.211477 -0.182344 -0.216979   \n",
       "\n",
       "           meanfun    minfun    maxfun   meandom    mindom    maxdom  \\\n",
       "meanfreq  0.460844  0.383937  0.274004  0.536666  0.229261  0.519528   \n",
       "sd       -0.466281 -0.345609 -0.129662 -0.482726 -0.357667 -0.482278   \n",
       "median    0.414909  0.337602  0.251328  0.455943  0.191169  0.438919   \n",
       "Q25       0.545035  0.320994  0.199841  0.467403  0.302255  0.459683   \n",
       "Q75       0.155091  0.258002  0.285584  0.359181 -0.023750  0.335114   \n",
       "IQR      -0.534462 -0.222680 -0.069588 -0.333362 -0.357037 -0.337877   \n",
       "skew     -0.167668 -0.216954 -0.080861 -0.336848 -0.061608 -0.305651   \n",
       "kurt     -0.194560 -0.203201 -0.045667 -0.303234 -0.103313 -0.274500   \n",
       "sp.ent   -0.513194 -0.305826 -0.120738 -0.293562 -0.294869 -0.324253   \n",
       "sfm      -0.421066 -0.362100 -0.192369 -0.428442 -0.289593 -0.436649   \n",
       "mode      0.324771  0.385467  0.172329  0.491479  0.198150  0.477187   \n",
       "centroid  0.460844  0.383937  0.274004  0.536666  0.229261  0.519528   \n",
       "meanfun   1.000000  0.339387  0.311950  0.270840  0.162163  0.277982   \n",
       "minfun    0.339387  1.000000  0.213987  0.375979  0.082015  0.317860   \n",
       "maxfun    0.311950  0.213987  1.000000  0.337553 -0.243426  0.355390   \n",
       "meandom   0.270840  0.375979  0.337553  1.000000  0.099656  0.812838   \n",
       "mindom    0.162163  0.082015 -0.243426  0.099656  1.000000  0.026640   \n",
       "maxdom    0.277982  0.317860  0.355390  0.812838  0.026640  1.000000   \n",
       "dfrange   0.275154  0.316486  0.359880  0.811304  0.008666  0.999838   \n",
       "modindx  -0.054858  0.002042 -0.363029 -0.180954  0.200212 -0.425531   \n",
       "\n",
       "           dfrange   modindx  \n",
       "meanfreq  0.515570 -0.216979  \n",
       "sd       -0.475999  0.122660  \n",
       "median    0.435621 -0.213298  \n",
       "Q25       0.454394 -0.141377  \n",
       "Q75       0.335648 -0.216475  \n",
       "IQR      -0.331563  0.041252  \n",
       "skew     -0.304640 -0.169325  \n",
       "kurt     -0.272729 -0.205539  \n",
       "sp.ent   -0.319054  0.198074  \n",
       "sfm      -0.431580  0.211477  \n",
       "mode      0.473775 -0.182344  \n",
       "centroid  0.515570 -0.216979  \n",
       "meanfun   0.275154 -0.054858  \n",
       "minfun    0.316486  0.002042  \n",
       "maxfun    0.359880 -0.363029  \n",
       "meandom   0.811304 -0.180954  \n",
       "mindom    0.008666  0.200212  \n",
       "maxdom    0.999838 -0.425531  \n",
       "dfrange   1.000000 -0.429266  \n",
       "modindx  -0.429266  1.000000  "
      ]
     },
     "execution_count": 6,
     "metadata": {},
     "output_type": "execute_result"
    }
   ],
   "source": [
    "df.corr()"
   ]
  },
  {
   "cell_type": "code",
   "execution_count": 7,
   "metadata": {
    "collapsed": true
   },
   "outputs": [],
   "source": [
    "columns = df.columns"
   ]
  },
  {
   "cell_type": "code",
   "execution_count": 8,
   "metadata": {},
   "outputs": [
    {
     "name": "stdout",
     "output_type": "stream",
     "text": [
      "Independent var: \n",
      "    meanfreq        sd    median       Q25       Q75       IQR       skew  \\\n",
      "0  0.059781  0.064241  0.032027  0.015071  0.090193  0.075122  12.863462   \n",
      "1  0.066009  0.067310  0.040229  0.019414  0.092666  0.073252  22.423285   \n",
      "2  0.077316  0.083829  0.036718  0.008701  0.131908  0.123207  30.757155   \n",
      "\n",
      "          kurt    sp.ent       sfm  mode  centroid   meanfun    minfun  \\\n",
      "0   274.402906  0.893369  0.491918   0.0  0.059781  0.084279  0.015702   \n",
      "1   634.613855  0.892193  0.513724   0.0  0.066009  0.107937  0.015826   \n",
      "2  1024.927705  0.846389  0.478905   0.0  0.077316  0.098706  0.015656   \n",
      "\n",
      "     maxfun   meandom    mindom    maxdom   dfrange   modindx  \n",
      "0  0.275862  0.007812  0.007812  0.007812  0.000000  0.000000  \n",
      "1  0.250000  0.009014  0.007812  0.054688  0.046875  0.052632  \n",
      "2  0.271186  0.007990  0.007812  0.015625  0.007812  0.046512   \n",
      "\n",
      "Dependent var: \n",
      " 0    male\n",
      "1    male\n",
      "2    male\n",
      "Name: label, dtype: object\n"
     ]
    }
   ],
   "source": [
    "X = df[columns[0:20]].copy()\n",
    "y = df[columns[-1]].copy()\n",
    "print('Independent var: \\n',X.head(3),'\\n')\n",
    "print('Dependent var: \\n',y.head(3))"
   ]
  },
  {
   "cell_type": "code",
   "execution_count": 9,
   "metadata": {},
   "outputs": [
    {
     "name": "stdout",
     "output_type": "stream",
     "text": [
      "sample values of target values:\n",
      " [1 1 1]\n"
     ]
    }
   ],
   "source": [
    "encode_obj = LabelEncoder()\n",
    "y = encode_obj.fit_transform(y)\n",
    "print('sample values of target values:\\n',y[0:3])"
   ]
  },
  {
   "cell_type": "code",
   "execution_count": 10,
   "metadata": {
    "collapsed": true
   },
   "outputs": [],
   "source": [
    "test_x_train,test_x_test,test_y_train,test_y_test = train_test_split(X,y,train_size=0.8,test_size=0.2,random_state=1)"
   ]
  },
  {
   "cell_type": "code",
   "execution_count": 11,
   "metadata": {},
   "outputs": [
    {
     "name": "stdout",
     "output_type": "stream",
     "text": [
      "Accuracy obtained from train-test split on training data is: 0.876479873717\n",
      "Accuracy obtained from train-test split on testing data is: 0.869085173502\n"
     ]
    }
   ],
   "source": [
    "#raw data predictions\n",
    "nbclf = naive_bayes.GaussianNB()\n",
    "nbclf = nbclf.fit(test_x_train, test_y_train)\n",
    "nbpreds_test = nbclf.predict(test_x_test)\n",
    "print('Accuracy obtained from train-test split on training data is:',nbclf.score(test_x_train, test_y_train))\n",
    "print('Accuracy obtained from train-test split on testing data is:',nbclf.score(test_x_test, test_y_test))"
   ]
  },
  {
   "cell_type": "code",
   "execution_count": 12,
   "metadata": {},
   "outputs": [
    {
     "name": "stdout",
     "output_type": "stream",
     "text": [
      "Accuracy obtained from 5-fold cross validation on actual raw data is: 0.846230483568\n"
     ]
    }
   ],
   "source": [
    "test_eval_result = cross_val_score(nbclf, X, y, cv=5, scoring='accuracy')\n",
    "print('Accuracy obtained from 5-fold cross validation on actual raw data is:',test_eval_result.mean())"
   ]
  },
  {
   "cell_type": "markdown",
   "metadata": {},
   "source": [
    "**Let's do some Visualization **"
   ]
  },
  {
   "cell_type": "code",
   "execution_count": 14,
   "metadata": {},
   "outputs": [
    {
     "data": {
      "text/plain": [
       "(array([  67.,  121.,  127.,  227.,  479.,  755.,  532.,  500.,  271.,   89.]),\n",
       " array([  2.28758170e-04,   2.49405762e-02,   4.96523943e-02,\n",
       "          7.43642124e-02,   9.90760304e-02,   1.23787848e-01,\n",
       "          1.48499667e-01,   1.73211485e-01,   1.97923303e-01,\n",
       "          2.22635121e-01,   2.47346939e-01]),\n",
       " <a list of 10 Patch objects>)"
      ]
     },
     "execution_count": 14,
     "metadata": {},
     "output_type": "execute_result"
    },
    {
     "data": {
      "image/png": "[encoded data removed]",
      "text/plain": [
       "<matplotlib.figure.Figure at 0x7f8b14eaf630>"
      ]
     },
     "metadata": {},
     "output_type": "display_data"
    }
   ],
   "source": [
    "fig=plt.figure(figsize=(18, 16), dpi= 80, facecolor='w', edgecolor='k')\n",
    "plt.subplot(221)\n",
    "plt.title('meanfreq')\n",
    "plt.hist(X['meanfreq'])\n",
    "plt.subplot(222)\n",
    "plt.title('sd')\n",
    "plt.hist(X['sd'])\n",
    "plt.subplot(223)\n",
    "plt.title('median')\n",
    "plt.hist(X['median'])\n",
    "plt.subplot(224)\n",
    "plt.title('q25')\n",
    "plt.hist(X['Q25'])"
   ]
  },
  {
   "cell_type": "code",
   "execution_count": 15,
   "metadata": {},
   "outputs": [
    {
     "data": {
      "text/plain": [
       "(array([ 3037.,    23.,    13.,    13.,    20.,    20.,    21.,    12.,\n",
       "            5.,     4.]),\n",
       " array([    2.06845549,   132.82289868,   263.57734187,   394.33178505,\n",
       "          525.08622824,   655.84067143,   786.59511462,   917.34955781,\n",
       "         1048.10400099,  1178.85844418,  1309.61288737]),\n",
       " <a list of 10 Patch objects>)"
      ]
     },
     "execution_count": 15,
     "metadata": {},
     "output_type": "execute_result"
    },
    {
     "data": {
      "image/png": "[encoded data removed]",
      "text/plain": [
       "<matplotlib.figure.Figure at 0x7f8b153787b8>"
      ]
     },
     "metadata": {},
     "output_type": "display_data"
    }
   ],
   "source": [
    "fig=plt.figure(figsize=(18, 16), dpi= 80, facecolor='w', edgecolor='k')\n",
    "plt.subplot(221)\n",
    "plt.title('Q75')\n",
    "plt.hist(X['Q75'])\n",
    "plt.subplot(222)\n",
    "plt.title('IQR')\n",
    "plt.hist(X['IQR'])\n",
    "plt.subplot(223)\n",
    "plt.title('skew')\n",
    "plt.hist(X['skew'])\n",
    "plt.subplot(224)\n",
    "plt.title('kurt')\n",
    "plt.hist(X['kurt'])"
   ]
  },
  {
   "cell_type": "code",
   "execution_count": 16,
   "metadata": {},
   "outputs": [
    {
     "data": {
      "text/plain": [
       "(array([   4.,    8.,   35.,  101.,  225.,  502.,  876.,  925.,  347.,  145.]),\n",
       " array([ 0.03936334,  0.06053938,  0.08171543,  0.10289147,  0.12406751,\n",
       "         0.14524355,  0.16641959,  0.18759563,  0.20877168,  0.22994772,\n",
       "         0.25112376]),\n",
       " <a list of 10 Patch objects>)"
      ]
     },
     "execution_count": 16,
     "metadata": {},
     "output_type": "execute_result"
    },
    {
     "data": {
      "image/png": "[encoded data removed]",
      "text/plain": [
       "<matplotlib.figure.Figure at 0x7f8b15125e48>"
      ]
     },
     "metadata": {},
     "output_type": "display_data"
    }
   ],
   "source": [
    "fig=plt.figure(figsize=(18, 16), dpi= 80, facecolor='w', edgecolor='k')\n",
    "plt.subplot(221)\n",
    "plt.title('sp.ent')\n",
    "plt.hist(X['sp.ent'])\n",
    "plt.subplot(222)\n",
    "plt.title('sfm')\n",
    "plt.hist(X['sfm'])\n",
    "plt.subplot(223)\n",
    "plt.title('mode')\n",
    "plt.hist(X['mode'])\n",
    "plt.subplot(224)\n",
    "plt.title('Centroid')\n",
    "plt.hist(X['centroid'])"
   ]
  },
  {
   "cell_type": "code",
   "execution_count": 17,
   "metadata": {},
   "outputs": [
    {
     "data": {
      "text/plain": [
       "(array([ 576.,  645.,  634.,  533.,  404.,  203.,  113.,   41.,   16.,    3.]),\n",
       " array([ 0.0078125 ,  0.30279948,  0.59778646,  0.89277344,  1.18776042,\n",
       "         1.4827474 ,  1.77773438,  2.07272135,  2.36770833,  2.66269531,\n",
       "         2.95768229]),\n",
       " <a list of 10 Patch objects>)"
      ]
     },
     "execution_count": 17,
     "metadata": {},
     "output_type": "execute_result"
    },
    {
     "data": {
      "image/png": "[encoded data removed]",
      "text/plain": [
       "<matplotlib.figure.Figure at 0x7f8b14906860>"
      ]
     },
     "metadata": {},
     "output_type": "display_data"
    }
   ],
   "source": [
    "fig=plt.figure(figsize=(18, 16), dpi= 80, facecolor='w', edgecolor='k')\n",
    "plt.subplot(221)\n",
    "plt.title('meanfun')\n",
    "plt.hist(X['meanfun'])\n",
    "plt.subplot(222)\n",
    "plt.title('minfun')\n",
    "plt.hist(X['minfun'])\n",
    "plt.subplot(223)\n",
    "plt.title('maxfun')\n",
    "plt.hist(X['maxfun'])\n",
    "plt.subplot(224)\n",
    "plt.title('meandom')\n",
    "plt.hist(X['meandom'])"
   ]
  },
  {
   "cell_type": "code",
   "execution_count": 18,
   "metadata": {},
   "outputs": [
    {
     "data": {
      "text/plain": [
       "(array([  653.,  1545.,   514.,   248.,    96.,    56.,    30.,    16.,\n",
       "            4.,     6.]),\n",
       " array([ 0.        ,  0.09323741,  0.18647482,  0.27971223,  0.37294964,\n",
       "         0.46618705,  0.55942446,  0.65266187,  0.74589928,  0.83913669,\n",
       "         0.9323741 ]),\n",
       " <a list of 10 Patch objects>)"
      ]
     },
     "execution_count": 18,
     "metadata": {},
     "output_type": "execute_result"
    },
    {
     "data": {
      "image/png": "[encoded data removed]",
      "text/plain": [
       "<matplotlib.figure.Figure at 0x7f8b145b27b8>"
      ]
     },
     "metadata": {},
     "output_type": "display_data"
    }
   ],
   "source": [
    "fig=plt.figure(figsize=(18, 16), dpi= 80, facecolor='w', edgecolor='k')\n",
    "plt.subplot(221)\n",
    "plt.title('mindom')\n",
    "plt.hist(X['mindom'])\n",
    "plt.subplot(222)\n",
    "plt.title('maxdom')\n",
    "plt.hist(X['maxdom'])\n",
    "plt.subplot(223)\n",
    "plt.title('dfrange')\n",
    "plt.hist(X['dfrange'])\n",
    "plt.subplot(224)\n",
    "plt.title('modindx')\n",
    "plt.hist(X['modindx'])"
   ]
  },
  {
   "cell_type": "code",
   "execution_count": 19,
   "metadata": {},
   "outputs": [
    {
     "name": "stdout",
     "output_type": "stream",
     "text": [
      "1    1584\n",
      "0    1584\n",
      "dtype: int64\n"
     ]
    },
    {
     "data": {
      "text/plain": [
       "<matplotlib.axes._subplots.AxesSubplot at 0x7f8b17bf8400>"
      ]
     },
     "execution_count": 19,
     "metadata": {},
     "output_type": "execute_result"
    },
    {
     "data": {
      "image/png": "[encoded data removed]",
      "text/plain": [
       "<matplotlib.figure.Figure at 0x7f8b17b9cb00>"
      ]
     },
     "metadata": {},
     "output_type": "display_data"
    }
   ],
   "source": [
    "fig=plt.figure(figsize=(18, 16), dpi= 80, facecolor='w', edgecolor='k')\n",
    "print(pd.Series(y).value_counts())\n",
    "pd.Series(y).value_counts().plot(kind='bar', title='Number of male and female users')"
   ]
  },
  {
   "cell_type": "markdown",
   "metadata": {},
   "source": [
    "**_our analysis shows that <br/>\n",
    "meanfreq, sd, median, Q25, Q75, sp.ent, sfm, centroid, meanfun are Normally distributed\n",
    "skew, kurt, minfun, maxfun, meandom, mindom, maxdom, dfrange, midindex, IQR, mode are skewed<br/>\n",
    "<br/>_**\n",
    " \n",
    " "
   ]
  },
  {
   "cell_type": "code",
   "execution_count": 20,
   "metadata": {},
   "outputs": [
    {
     "data": {
      "text/html": [
       "<div>\n",
       "<style>\n",
       "    .dataframe thead tr:only-child th {\n",
       "        text-align: right;\n",
       "    }\n",
       "\n",
       "    .dataframe thead th {\n",
       "        text-align: left;\n",
       "    }\n",
       "\n",
       "    .dataframe tbody tr th {\n",
       "        vertical-align: top;\n",
       "    }\n",
       "</style>\n",
       "<table border=\"1\" class=\"dataframe\">\n",
       "  <thead>\n",
       "    <tr style=\"text-align: right;\">\n",
       "      <th></th>\n",
       "      <th>meanfreq</th>\n",
       "      <th>sd</th>\n",
       "      <th>median</th>\n",
       "      <th>Q25</th>\n",
       "      <th>Q75</th>\n",
       "      <th>IQR</th>\n",
       "      <th>skew</th>\n",
       "      <th>kurt</th>\n",
       "      <th>sp.ent</th>\n",
       "      <th>sfm</th>\n",
       "      <th>mode</th>\n",
       "      <th>centroid</th>\n",
       "      <th>meanfun</th>\n",
       "      <th>minfun</th>\n",
       "      <th>maxfun</th>\n",
       "      <th>meandom</th>\n",
       "      <th>mindom</th>\n",
       "      <th>maxdom</th>\n",
       "      <th>dfrange</th>\n",
       "      <th>modindx</th>\n",
       "    </tr>\n",
       "  </thead>\n",
       "  <tbody>\n",
       "    <tr>\n",
       "      <th>mean</th>\n",
       "      <td>0.180907</td>\n",
       "      <td>0.057126</td>\n",
       "      <td>0.185621</td>\n",
       "      <td>0.140456</td>\n",
       "      <td>0.224765</td>\n",
       "      <td>0.084309</td>\n",
       "      <td>3.140168</td>\n",
       "      <td>36.568461</td>\n",
       "      <td>0.895127</td>\n",
       "      <td>0.408216</td>\n",
       "      <td>0.165282</td>\n",
       "      <td>0.180907</td>\n",
       "      <td>0.142807</td>\n",
       "      <td>0.036802</td>\n",
       "      <td>0.258842</td>\n",
       "      <td>0.829211</td>\n",
       "      <td>0.052647</td>\n",
       "      <td>5.047277</td>\n",
       "      <td>4.994630</td>\n",
       "      <td>0.173752</td>\n",
       "    </tr>\n",
       "    <tr>\n",
       "      <th>median</th>\n",
       "      <td>0.184838</td>\n",
       "      <td>0.059155</td>\n",
       "      <td>0.190032</td>\n",
       "      <td>0.140286</td>\n",
       "      <td>0.225684</td>\n",
       "      <td>0.094280</td>\n",
       "      <td>2.197101</td>\n",
       "      <td>8.318463</td>\n",
       "      <td>0.901767</td>\n",
       "      <td>0.396335</td>\n",
       "      <td>0.186599</td>\n",
       "      <td>0.184838</td>\n",
       "      <td>0.140519</td>\n",
       "      <td>0.046110</td>\n",
       "      <td>0.271186</td>\n",
       "      <td>0.765795</td>\n",
       "      <td>0.023438</td>\n",
       "      <td>4.992188</td>\n",
       "      <td>4.945312</td>\n",
       "      <td>0.139357</td>\n",
       "    </tr>\n",
       "  </tbody>\n",
       "</table>\n",
       "</div>"
      ],
      "text/plain": [
       "        meanfreq        sd    median       Q25       Q75       IQR      skew  \\\n",
       "mean    0.180907  0.057126  0.185621  0.140456  0.224765  0.084309  3.140168   \n",
       "median  0.184838  0.059155  0.190032  0.140286  0.225684  0.094280  2.197101   \n",
       "\n",
       "             kurt    sp.ent       sfm      mode  centroid   meanfun    minfun  \\\n",
       "mean    36.568461  0.895127  0.408216  0.165282  0.180907  0.142807  0.036802   \n",
       "median   8.318463  0.901767  0.396335  0.186599  0.184838  0.140519  0.046110   \n",
       "\n",
       "          maxfun   meandom    mindom    maxdom   dfrange   modindx  \n",
       "mean    0.258842  0.829211  0.052647  5.047277  4.994630  0.173752  \n",
       "median  0.271186  0.765795  0.023438  4.992188  4.945312  0.139357  "
      ]
     },
     "execution_count": 20,
     "metadata": {},
     "output_type": "execute_result"
    }
   ],
   "source": [
    "means = X.describe().loc['mean']\n",
    "medians =X.describe().loc['50%']\n",
    "pd.DataFrame([means,medians], index=['mean','median'])"
   ]
  },
  {
   "cell_type": "code",
   "execution_count": 22,
   "metadata": {},
   "outputs": [
    {
     "data": {
      "text/plain": [
       "(70, 21)"
      ]
     },
     "execution_count": 22,
     "metadata": {},
     "output_type": "execute_result"
    }
   ],
   "source": [
    "#lets filter outliers from male users\n",
    "male_funFreq_outlier_index = df[((df['meanfun'] < 0.085) | (df['meanfun'] > 0.180)) & \n",
    "                                      (df['label'] == 'male')].index\n",
    "male_funFreq_outlier_index = list(male_funFreq_outlier_index)\n",
    "df[((df['meanfun'] < 0.085) | (df['meanfun'] > 0.180)) & (df['label'] == 'male')].shape"
   ]
  },
  {
   "cell_type": "code",
   "execution_count": 23,
   "metadata": {},
   "outputs": [
    {
     "data": {
      "text/plain": [
       "(640, 21)"
      ]
     },
     "execution_count": 23,
     "metadata": {},
     "output_type": "execute_result"
    }
   ],
   "source": [
    "#lets filter outliers from female users\n",
    "female_funFreq_outlier_index = df[((df['meanfun'] < 0.165) | (df['meanfun'] > 0.255)) & \n",
    "                                        (df['label'] == 'female')].index\n",
    "female_funFreq_outlier_index = list(female_funFreq_outlier_index)\n",
    "df[((df['meanfun'] < 0.165) | (df['meanfun'] > 0.255)) & (df['label'] == 'female')].shape"
   ]
  },
  {
   "cell_type": "code",
   "execution_count": 24,
   "metadata": {},
   "outputs": [
    {
     "name": "stdout",
     "output_type": "stream",
     "text": [
      "Need to get rid of 710 from X and y\n"
     ]
    }
   ],
   "source": [
    "remove = male_funFreq_outlier_index + female_funFreq_outlier_index\n",
    "lent = len(remove)\n",
    "print(\"Need to get rid of %d from X and y\"%lent)"
   ]
  },
  {
   "cell_type": "code",
   "execution_count": 25,
   "metadata": {},
   "outputs": [
    {
     "data": {
      "text/plain": [
       "(2458, 20)"
      ]
     },
     "execution_count": 25,
     "metadata": {},
     "output_type": "execute_result"
    }
   ],
   "source": [
    "X = X.drop(remove,axis=0)\n",
    "X.shape"
   ]
  },
  {
   "cell_type": "code",
   "execution_count": 26,
   "metadata": {},
   "outputs": [
    {
     "data": {
      "text/plain": [
       "(2458,)"
      ]
     },
     "execution_count": 26,
     "metadata": {},
     "output_type": "execute_result"
    }
   ],
   "source": [
    "y = pd.Series(y).drop(remove,axis=0)\n",
    "y.shape"
   ]
  },
  {
   "cell_type": "markdown",
   "metadata": {},
   "source": [
    "After cleaning, here's what the target looks like "
   ]
  },
  {
   "cell_type": "code",
   "execution_count": 27,
   "metadata": {},
   "outputs": [
    {
     "name": "stdout",
     "output_type": "stream",
     "text": [
      "1    1514\n",
      "0     944\n",
      "dtype: int64\n"
     ]
    },
    {
     "data": {
      "text/plain": [
       "<matplotlib.axes._subplots.AxesSubplot at 0x7f8b14835438>"
      ]
     },
     "execution_count": 27,
     "metadata": {},
     "output_type": "execute_result"
    },
    {
     "data": {
      "image/png": "[encoded data removed]",
      "text/plain": [
       "<matplotlib.figure.Figure at 0x7f8b143bb208>"
      ]
     },
     "metadata": {},
     "output_type": "display_data"
    }
   ],
   "source": [
    "fig=plt.figure(figsize=(18, 16), dpi= 80, facecolor='w', edgecolor='k')\n",
    "\n",
    "print(y.value_counts())\n",
    "\n",
    "y.value_counts().plot(kind='bar', title='after cleanup (1=Male,0 =Female)')"
   ]
  },
  {
   "cell_type": "code",
   "execution_count": 38,
   "metadata": {
    "collapsed": true
   },
   "outputs": [],
   "source": [
    "# Z-score Normalization on meanfreq, median, Q25, Q75\n",
    "#minmax of IQR\n",
    "z_score_norm = lambda colname: (X[colname]- X[colname].mean())/(X[colname].std())\n",
    "min_max_norm = lambda colname: (X[colname]- X[colname].min())/(X[colname].max()-X[colname].min())"
   ]
  },
  {
   "cell_type": "code",
   "execution_count": 39,
   "metadata": {},
   "outputs": [],
   "source": [
    "X1 = X.copy()\n",
    "X1['z_meanfreq'] = z_score_norm('meanfreq')\n",
    "X1['z_median'] = z_score_norm('median')\n",
    "X1['z_Q25'] = z_score_norm('Q25')\n",
    "X1['z_Q75'] = z_score_norm('Q75')\n",
    "X1['Norm_IQR'] = min_max_norm('IQR')"
   ]
  },
  {
   "cell_type": "code",
   "execution_count": 40,
   "metadata": {},
   "outputs": [],
   "source": [
    "X1 = X1.drop(['meanfreq','median','Q25','Q75','IQR'],axis=1)\n"
   ]
  },
  {
   "cell_type": "code",
   "execution_count": 41,
   "metadata": {},
   "outputs": [
    {
     "data": {
      "text/html": [
       "<div>\n",
       "<style>\n",
       "    .dataframe thead tr:only-child th {\n",
       "        text-align: right;\n",
       "    }\n",
       "\n",
       "    .dataframe thead th {\n",
       "        text-align: left;\n",
       "    }\n",
       "\n",
       "    .dataframe tbody tr th {\n",
       "        vertical-align: top;\n",
       "    }\n",
       "</style>\n",
       "<table border=\"1\" class=\"dataframe\">\n",
       "  <thead>\n",
       "    <tr style=\"text-align: right;\">\n",
       "      <th></th>\n",
       "      <th>sd</th>\n",
       "      <th>skew</th>\n",
       "      <th>kurt</th>\n",
       "      <th>sp.ent</th>\n",
       "      <th>sfm</th>\n",
       "      <th>mode</th>\n",
       "      <th>centroid</th>\n",
       "      <th>meanfun</th>\n",
       "      <th>minfun</th>\n",
       "      <th>maxfun</th>\n",
       "      <th>meandom</th>\n",
       "      <th>mindom</th>\n",
       "      <th>maxdom</th>\n",
       "      <th>dfrange</th>\n",
       "      <th>modindx</th>\n",
       "      <th>z_meanfreq</th>\n",
       "      <th>z_median</th>\n",
       "      <th>z_Q25</th>\n",
       "      <th>z_Q75</th>\n",
       "      <th>Norm_IQR</th>\n",
       "    </tr>\n",
       "  </thead>\n",
       "  <tbody>\n",
       "    <tr>\n",
       "      <th>1</th>\n",
       "      <td>0.067310</td>\n",
       "      <td>22.423285</td>\n",
       "      <td>634.613855</td>\n",
       "      <td>0.892193</td>\n",
       "      <td>0.513724</td>\n",
       "      <td>0.000000</td>\n",
       "      <td>0.066009</td>\n",
       "      <td>0.107937</td>\n",
       "      <td>0.015826</td>\n",
       "      <td>0.250000</td>\n",
       "      <td>0.009014</td>\n",
       "      <td>0.007812</td>\n",
       "      <td>0.054688</td>\n",
       "      <td>0.046875</td>\n",
       "      <td>0.052632</td>\n",
       "      <td>-3.720840</td>\n",
       "      <td>-3.828504</td>\n",
       "      <td>-2.355691</td>\n",
       "      <td>-5.781683</td>\n",
       "      <td>0.246961</td>\n",
       "    </tr>\n",
       "    <tr>\n",
       "      <th>2</th>\n",
       "      <td>0.083829</td>\n",
       "      <td>30.757155</td>\n",
       "      <td>1024.927705</td>\n",
       "      <td>0.846389</td>\n",
       "      <td>0.478905</td>\n",
       "      <td>0.000000</td>\n",
       "      <td>0.077316</td>\n",
       "      <td>0.098706</td>\n",
       "      <td>0.015656</td>\n",
       "      <td>0.271186</td>\n",
       "      <td>0.007990</td>\n",
       "      <td>0.007812</td>\n",
       "      <td>0.015625</td>\n",
       "      <td>0.007812</td>\n",
       "      <td>0.046512</td>\n",
       "      <td>-3.354719</td>\n",
       "      <td>-3.920638</td>\n",
       "      <td>-2.570261</td>\n",
       "      <td>-4.094335</td>\n",
       "      <td>0.457148</td>\n",
       "    </tr>\n",
       "    <tr>\n",
       "      <th>3</th>\n",
       "      <td>0.072111</td>\n",
       "      <td>1.232831</td>\n",
       "      <td>4.177296</td>\n",
       "      <td>0.963322</td>\n",
       "      <td>0.727232</td>\n",
       "      <td>0.083878</td>\n",
       "      <td>0.151228</td>\n",
       "      <td>0.088965</td>\n",
       "      <td>0.017798</td>\n",
       "      <td>0.250000</td>\n",
       "      <td>0.201497</td>\n",
       "      <td>0.007812</td>\n",
       "      <td>0.562500</td>\n",
       "      <td>0.554688</td>\n",
       "      <td>0.247119</td>\n",
       "      <td>-0.961373</td>\n",
       "      <td>-0.737091</td>\n",
       "      <td>-0.810072</td>\n",
       "      <td>-0.824403</td>\n",
       "      <td>0.407358</td>\n",
       "    </tr>\n",
       "    <tr>\n",
       "      <th>4</th>\n",
       "      <td>0.079146</td>\n",
       "      <td>1.101174</td>\n",
       "      <td>4.333713</td>\n",
       "      <td>0.971955</td>\n",
       "      <td>0.783568</td>\n",
       "      <td>0.104261</td>\n",
       "      <td>0.135120</td>\n",
       "      <td>0.106398</td>\n",
       "      <td>0.016931</td>\n",
       "      <td>0.266667</td>\n",
       "      <td>0.712812</td>\n",
       "      <td>0.007812</td>\n",
       "      <td>5.484375</td>\n",
       "      <td>5.476562</td>\n",
       "      <td>0.208274</td>\n",
       "      <td>-1.482953</td>\n",
       "      <td>-1.612552</td>\n",
       "      <td>-1.167826</td>\n",
       "      <td>-0.906544</td>\n",
       "      <td>0.474474</td>\n",
       "    </tr>\n",
       "    <tr>\n",
       "      <th>5</th>\n",
       "      <td>0.079557</td>\n",
       "      <td>1.932562</td>\n",
       "      <td>8.308895</td>\n",
       "      <td>0.963181</td>\n",
       "      <td>0.738307</td>\n",
       "      <td>0.112555</td>\n",
       "      <td>0.132786</td>\n",
       "      <td>0.110132</td>\n",
       "      <td>0.017112</td>\n",
       "      <td>0.253968</td>\n",
       "      <td>0.298222</td>\n",
       "      <td>0.007812</td>\n",
       "      <td>2.726562</td>\n",
       "      <td>2.718750</td>\n",
       "      <td>0.125160</td>\n",
       "      <td>-1.558529</td>\n",
       "      <td>-1.758652</td>\n",
       "      <td>-1.383386</td>\n",
       "      <td>-0.754042</td>\n",
       "      <td>0.534679</td>\n",
       "    </tr>\n",
       "  </tbody>\n",
       "</table>\n",
       "</div>"
      ],
      "text/plain": [
       "         sd       skew         kurt    sp.ent       sfm      mode  centroid  \\\n",
       "1  0.067310  22.423285   634.613855  0.892193  0.513724  0.000000  0.066009   \n",
       "2  0.083829  30.757155  1024.927705  0.846389  0.478905  0.000000  0.077316   \n",
       "3  0.072111   1.232831     4.177296  0.963322  0.727232  0.083878  0.151228   \n",
       "4  0.079146   1.101174     4.333713  0.971955  0.783568  0.104261  0.135120   \n",
       "5  0.079557   1.932562     8.308895  0.963181  0.738307  0.112555  0.132786   \n",
       "\n",
       "    meanfun    minfun    maxfun   meandom    mindom    maxdom   dfrange  \\\n",
       "1  0.107937  0.015826  0.250000  0.009014  0.007812  0.054688  0.046875   \n",
       "2  0.098706  0.015656  0.271186  0.007990  0.007812  0.015625  0.007812   \n",
       "3  0.088965  0.017798  0.250000  0.201497  0.007812  0.562500  0.554688   \n",
       "4  0.106398  0.016931  0.266667  0.712812  0.007812  5.484375  5.476562   \n",
       "5  0.110132  0.017112  0.253968  0.298222  0.007812  2.726562  2.718750   \n",
       "\n",
       "    modindx  z_meanfreq  z_median     z_Q25     z_Q75  Norm_IQR  \n",
       "1  0.052632   -3.720840 -3.828504 -2.355691 -5.781683  0.246961  \n",
       "2  0.046512   -3.354719 -3.920638 -2.570261 -4.094335  0.457148  \n",
       "3  0.247119   -0.961373 -0.737091 -0.810072 -0.824403  0.407358  \n",
       "4  0.208274   -1.482953 -1.612552 -1.167826 -0.906544  0.474474  \n",
       "5  0.125160   -1.558529 -1.758652 -1.383386 -0.754042  0.534679  "
      ]
     },
     "execution_count": 41,
     "metadata": {},
     "output_type": "execute_result"
    }
   ],
   "source": [
    "X1.head()"
   ]
  },
  {
   "cell_type": "code",
   "execution_count": 48,
   "metadata": {},
   "outputs": [
    {
     "data": {
      "text/plain": [
       "(array([ 476.,  299.,  126.,  660.,  639.,  125.,  107.,   16.,    1.,    9.]),\n",
       " array([ 0. ,  0.1,  0.2,  0.3,  0.4,  0.5,  0.6,  0.7,  0.8,  0.9,  1. ]),\n",
       " <a list of 10 Patch objects>)"
      ]
     },
     "execution_count": 48,
     "metadata": {},
     "output_type": "execute_result"
    },
    {
     "data": {
      "image/png": "[encoded data removed]",
      "text/plain": [
       "<matplotlib.figure.Figure at 0x7f8b13b89860>"
      ]
     },
     "metadata": {},
     "output_type": "display_data"
    }
   ],
   "source": [
    "fig=plt.figure(figsize=(18, 16), dpi= 80, facecolor='w', edgecolor='k')\n",
    "plt.subplot(231)\n",
    "plt.title('z_meanfreq')\n",
    "plt.hist(X1['z_meanfreq'])\n",
    "plt.subplot(232)\n",
    "plt.title('z_median')\n",
    "plt.hist(X1['z_median'])\n",
    "plt.subplot(233)\n",
    "plt.title('z_Q25')\n",
    "plt.hist(X1['z_Q25'])\n",
    "plt.subplot(234)\n",
    "plt.title('z_Q75')\n",
    "plt.hist(X1['z_Q75'])\n",
    "plt.subplot(235)\n",
    "plt.title('Norm_IQR')\n",
    "plt.hist(X1['Norm_IQR'])"
   ]
  },
  {
   "cell_type": "code",
   "execution_count": 51,
   "metadata": {},
   "outputs": [
    {
     "data": {
      "text/html": [
       "<div>\n",
       "<style>\n",
       "    .dataframe thead tr:only-child th {\n",
       "        text-align: right;\n",
       "    }\n",
       "\n",
       "    .dataframe thead th {\n",
       "        text-align: left;\n",
       "    }\n",
       "\n",
       "    .dataframe tbody tr th {\n",
       "        vertical-align: top;\n",
       "    }\n",
       "</style>\n",
       "<table border=\"1\" class=\"dataframe\">\n",
       "  <thead>\n",
       "    <tr style=\"text-align: right;\">\n",
       "      <th></th>\n",
       "      <th>sd</th>\n",
       "      <th>skew</th>\n",
       "      <th>kurt</th>\n",
       "      <th>sp.ent</th>\n",
       "      <th>sfm</th>\n",
       "      <th>mode</th>\n",
       "      <th>centroid</th>\n",
       "      <th>meanfun</th>\n",
       "      <th>minfun</th>\n",
       "      <th>maxfun</th>\n",
       "      <th>meandom</th>\n",
       "      <th>mindom</th>\n",
       "      <th>maxdom</th>\n",
       "      <th>dfrange</th>\n",
       "      <th>modindx</th>\n",
       "      <th>z_meanfreq</th>\n",
       "      <th>z_median</th>\n",
       "      <th>z_Q25</th>\n",
       "      <th>z_Q75</th>\n",
       "      <th>Norm_IQR</th>\n",
       "    </tr>\n",
       "  </thead>\n",
       "  <tbody>\n",
       "    <tr>\n",
       "      <th>sd</th>\n",
       "      <td>1.000000</td>\n",
       "      <td>0.268792</td>\n",
       "      <td>0.305891</td>\n",
       "      <td>0.748671</td>\n",
       "      <td>0.841054</td>\n",
       "      <td>-0.518399</td>\n",
       "      <td>-0.761064</td>\n",
       "      <td>-0.466995</td>\n",
       "      <td>-0.334265</td>\n",
       "      <td>-0.128949</td>\n",
       "      <td>-0.445008</td>\n",
       "      <td>-0.371717</td>\n",
       "      <td>-0.447752</td>\n",
       "      <td>-0.441069</td>\n",
       "      <td>0.124674</td>\n",
       "      <td>-0.761064</td>\n",
       "      <td>-0.593734</td>\n",
       "      <td>-0.864655</td>\n",
       "      <td>-0.217083</td>\n",
       "      <td>0.899810</td>\n",
       "    </tr>\n",
       "    <tr>\n",
       "      <th>skew</th>\n",
       "      <td>0.268792</td>\n",
       "      <td>1.000000</td>\n",
       "      <td>0.978731</td>\n",
       "      <td>-0.186965</td>\n",
       "      <td>0.052345</td>\n",
       "      <td>-0.404677</td>\n",
       "      <td>-0.292907</td>\n",
       "      <td>-0.080008</td>\n",
       "      <td>-0.174601</td>\n",
       "      <td>-0.034663</td>\n",
       "      <td>-0.308871</td>\n",
       "      <td>-0.068304</td>\n",
       "      <td>-0.270584</td>\n",
       "      <td>-0.269368</td>\n",
       "      <td>-0.130912</td>\n",
       "      <td>-0.292907</td>\n",
       "      <td>-0.254069</td>\n",
       "      <td>-0.280212</td>\n",
       "      <td>-0.211600</td>\n",
       "      <td>0.214066</td>\n",
       "    </tr>\n",
       "    <tr>\n",
       "      <th>kurt</th>\n",
       "      <td>0.305891</td>\n",
       "      <td>0.978731</td>\n",
       "      <td>1.000000</td>\n",
       "      <td>-0.103409</td>\n",
       "      <td>0.098550</td>\n",
       "      <td>-0.377308</td>\n",
       "      <td>-0.295208</td>\n",
       "      <td>-0.119739</td>\n",
       "      <td>-0.179806</td>\n",
       "      <td>-0.015390</td>\n",
       "      <td>-0.283337</td>\n",
       "      <td>-0.105741</td>\n",
       "      <td>-0.248240</td>\n",
       "      <td>-0.246347</td>\n",
       "      <td>-0.173645</td>\n",
       "      <td>-0.295208</td>\n",
       "      <td>-0.245334</td>\n",
       "      <td>-0.311618</td>\n",
       "      <td>-0.167253</td>\n",
       "      <td>0.275422</td>\n",
       "    </tr>\n",
       "    <tr>\n",
       "      <th>sp.ent</th>\n",
       "      <td>0.748671</td>\n",
       "      <td>-0.186965</td>\n",
       "      <td>-0.103409</td>\n",
       "      <td>1.000000</td>\n",
       "      <td>0.882300</td>\n",
       "      <td>-0.345448</td>\n",
       "      <td>-0.653044</td>\n",
       "      <td>-0.558854</td>\n",
       "      <td>-0.319500</td>\n",
       "      <td>-0.157173</td>\n",
       "      <td>-0.302235</td>\n",
       "      <td>-0.318209</td>\n",
       "      <td>-0.325037</td>\n",
       "      <td>-0.319313</td>\n",
       "      <td>0.166691</td>\n",
       "      <td>-0.653044</td>\n",
       "      <td>-0.544028</td>\n",
       "      <td>-0.699490</td>\n",
       "      <td>-0.244650</td>\n",
       "      <td>0.690033</td>\n",
       "    </tr>\n",
       "    <tr>\n",
       "      <th>sfm</th>\n",
       "      <td>0.841054</td>\n",
       "      <td>0.052345</td>\n",
       "      <td>0.098550</td>\n",
       "      <td>0.882300</td>\n",
       "      <td>1.000000</td>\n",
       "      <td>-0.487812</td>\n",
       "      <td>-0.798872</td>\n",
       "      <td>-0.434546</td>\n",
       "      <td>-0.349963</td>\n",
       "      <td>-0.193208</td>\n",
       "      <td>-0.412508</td>\n",
       "      <td>-0.312801</td>\n",
       "      <td>-0.410816</td>\n",
       "      <td>-0.405195</td>\n",
       "      <td>0.190494</td>\n",
       "      <td>-0.798872</td>\n",
       "      <td>-0.681039</td>\n",
       "      <td>-0.787767</td>\n",
       "      <td>-0.419489</td>\n",
       "      <td>0.698088</td>\n",
       "    </tr>\n",
       "    <tr>\n",
       "      <th>mode</th>\n",
       "      <td>-0.518399</td>\n",
       "      <td>-0.404677</td>\n",
       "      <td>-0.377308</td>\n",
       "      <td>-0.345448</td>\n",
       "      <td>-0.487812</td>\n",
       "      <td>1.000000</td>\n",
       "      <td>0.703159</td>\n",
       "      <td>0.305558</td>\n",
       "      <td>0.353356</td>\n",
       "      <td>0.170668</td>\n",
       "      <td>0.475223</td>\n",
       "      <td>0.209490</td>\n",
       "      <td>0.456170</td>\n",
       "      <td>0.452416</td>\n",
       "      <td>-0.214109</td>\n",
       "      <td>0.703159</td>\n",
       "      <td>0.710436</td>\n",
       "      <td>0.602051</td>\n",
       "      <td>0.536980</td>\n",
       "      <td>-0.414729</td>\n",
       "    </tr>\n",
       "    <tr>\n",
       "      <th>centroid</th>\n",
       "      <td>-0.761064</td>\n",
       "      <td>-0.292907</td>\n",
       "      <td>-0.295208</td>\n",
       "      <td>-0.653044</td>\n",
       "      <td>-0.798872</td>\n",
       "      <td>0.703159</td>\n",
       "      <td>1.000000</td>\n",
       "      <td>0.474303</td>\n",
       "      <td>0.371094</td>\n",
       "      <td>0.255896</td>\n",
       "      <td>0.547437</td>\n",
       "      <td>0.252269</td>\n",
       "      <td>0.524504</td>\n",
       "      <td>0.519982</td>\n",
       "      <td>-0.233599</td>\n",
       "      <td>1.000000</td>\n",
       "      <td>0.927085</td>\n",
       "      <td>0.925011</td>\n",
       "      <td>0.758994</td>\n",
       "      <td>-0.673457</td>\n",
       "    </tr>\n",
       "    <tr>\n",
       "      <th>meanfun</th>\n",
       "      <td>-0.466995</td>\n",
       "      <td>-0.080008</td>\n",
       "      <td>-0.119739</td>\n",
       "      <td>-0.558854</td>\n",
       "      <td>-0.434546</td>\n",
       "      <td>0.305558</td>\n",
       "      <td>0.474303</td>\n",
       "      <td>1.000000</td>\n",
       "      <td>0.345183</td>\n",
       "      <td>0.325146</td>\n",
       "      <td>0.246622</td>\n",
       "      <td>0.163801</td>\n",
       "      <td>0.257634</td>\n",
       "      <td>0.254693</td>\n",
       "      <td>-0.088519</td>\n",
       "      <td>0.474303</td>\n",
       "      <td>0.423266</td>\n",
       "      <td>0.552781</td>\n",
       "      <td>0.192549</td>\n",
       "      <td>-0.545740</td>\n",
       "    </tr>\n",
       "    <tr>\n",
       "      <th>minfun</th>\n",
       "      <td>-0.334265</td>\n",
       "      <td>-0.174601</td>\n",
       "      <td>-0.179806</td>\n",
       "      <td>-0.319500</td>\n",
       "      <td>-0.349963</td>\n",
       "      <td>0.353356</td>\n",
       "      <td>0.371094</td>\n",
       "      <td>0.345183</td>\n",
       "      <td>1.000000</td>\n",
       "      <td>0.175142</td>\n",
       "      <td>0.305936</td>\n",
       "      <td>0.123851</td>\n",
       "      <td>0.232142</td>\n",
       "      <td>0.229921</td>\n",
       "      <td>0.043800</td>\n",
       "      <td>0.371094</td>\n",
       "      <td>0.336728</td>\n",
       "      <td>0.336769</td>\n",
       "      <td>0.236711</td>\n",
       "      <td>-0.266933</td>\n",
       "    </tr>\n",
       "    <tr>\n",
       "      <th>maxfun</th>\n",
       "      <td>-0.128949</td>\n",
       "      <td>-0.034663</td>\n",
       "      <td>-0.015390</td>\n",
       "      <td>-0.157173</td>\n",
       "      <td>-0.193208</td>\n",
       "      <td>0.170668</td>\n",
       "      <td>0.255896</td>\n",
       "      <td>0.325146</td>\n",
       "      <td>0.175142</td>\n",
       "      <td>1.000000</td>\n",
       "      <td>0.320966</td>\n",
       "      <td>-0.239510</td>\n",
       "      <td>0.341457</td>\n",
       "      <td>0.345801</td>\n",
       "      <td>-0.393378</td>\n",
       "      <td>0.255896</td>\n",
       "      <td>0.237218</td>\n",
       "      <td>0.208284</td>\n",
       "      <td>0.250017</td>\n",
       "      <td>-0.108211</td>\n",
       "    </tr>\n",
       "    <tr>\n",
       "      <th>meandom</th>\n",
       "      <td>-0.445008</td>\n",
       "      <td>-0.308871</td>\n",
       "      <td>-0.283337</td>\n",
       "      <td>-0.302235</td>\n",
       "      <td>-0.412508</td>\n",
       "      <td>0.475223</td>\n",
       "      <td>0.547437</td>\n",
       "      <td>0.246622</td>\n",
       "      <td>0.305936</td>\n",
       "      <td>0.320966</td>\n",
       "      <td>1.000000</td>\n",
       "      <td>0.072956</td>\n",
       "      <td>0.801566</td>\n",
       "      <td>0.800298</td>\n",
       "      <td>-0.222662</td>\n",
       "      <td>0.547437</td>\n",
       "      <td>0.488135</td>\n",
       "      <td>0.473966</td>\n",
       "      <td>0.417383</td>\n",
       "      <td>-0.329437</td>\n",
       "    </tr>\n",
       "    <tr>\n",
       "      <th>mindom</th>\n",
       "      <td>-0.371717</td>\n",
       "      <td>-0.068304</td>\n",
       "      <td>-0.105741</td>\n",
       "      <td>-0.318209</td>\n",
       "      <td>-0.312801</td>\n",
       "      <td>0.209490</td>\n",
       "      <td>0.252269</td>\n",
       "      <td>0.163801</td>\n",
       "      <td>0.123851</td>\n",
       "      <td>-0.239510</td>\n",
       "      <td>0.072956</td>\n",
       "      <td>1.000000</td>\n",
       "      <td>0.012371</td>\n",
       "      <td>-0.005680</td>\n",
       "      <td>0.203165</td>\n",
       "      <td>0.252269</td>\n",
       "      <td>0.218869</td>\n",
       "      <td>0.313023</td>\n",
       "      <td>0.011247</td>\n",
       "      <td>-0.362716</td>\n",
       "    </tr>\n",
       "    <tr>\n",
       "      <th>maxdom</th>\n",
       "      <td>-0.447752</td>\n",
       "      <td>-0.270584</td>\n",
       "      <td>-0.248240</td>\n",
       "      <td>-0.325037</td>\n",
       "      <td>-0.410816</td>\n",
       "      <td>0.456170</td>\n",
       "      <td>0.524504</td>\n",
       "      <td>0.257634</td>\n",
       "      <td>0.232142</td>\n",
       "      <td>0.341457</td>\n",
       "      <td>0.801566</td>\n",
       "      <td>0.012371</td>\n",
       "      <td>1.000000</td>\n",
       "      <td>0.999837</td>\n",
       "      <td>-0.462587</td>\n",
       "      <td>0.524504</td>\n",
       "      <td>0.460816</td>\n",
       "      <td>0.468190</td>\n",
       "      <td>0.377937</td>\n",
       "      <td>-0.344284</td>\n",
       "    </tr>\n",
       "    <tr>\n",
       "      <th>dfrange</th>\n",
       "      <td>-0.441069</td>\n",
       "      <td>-0.269368</td>\n",
       "      <td>-0.246347</td>\n",
       "      <td>-0.319313</td>\n",
       "      <td>-0.405195</td>\n",
       "      <td>0.452416</td>\n",
       "      <td>0.519982</td>\n",
       "      <td>0.254693</td>\n",
       "      <td>0.229921</td>\n",
       "      <td>0.345801</td>\n",
       "      <td>0.800298</td>\n",
       "      <td>-0.005680</td>\n",
       "      <td>0.999837</td>\n",
       "      <td>1.000000</td>\n",
       "      <td>-0.466282</td>\n",
       "      <td>0.519982</td>\n",
       "      <td>0.456893</td>\n",
       "      <td>0.462568</td>\n",
       "      <td>0.377757</td>\n",
       "      <td>-0.337758</td>\n",
       "    </tr>\n",
       "    <tr>\n",
       "      <th>modindx</th>\n",
       "      <td>0.124674</td>\n",
       "      <td>-0.130912</td>\n",
       "      <td>-0.173645</td>\n",
       "      <td>0.166691</td>\n",
       "      <td>0.190494</td>\n",
       "      <td>-0.214109</td>\n",
       "      <td>-0.233599</td>\n",
       "      <td>-0.088519</td>\n",
       "      <td>0.043800</td>\n",
       "      <td>-0.393378</td>\n",
       "      <td>-0.222662</td>\n",
       "      <td>0.203165</td>\n",
       "      <td>-0.462587</td>\n",
       "      <td>-0.466282</td>\n",
       "      <td>1.000000</td>\n",
       "      <td>-0.233599</td>\n",
       "      <td>-0.230005</td>\n",
       "      <td>-0.163478</td>\n",
       "      <td>-0.239054</td>\n",
       "      <td>0.061426</td>\n",
       "    </tr>\n",
       "    <tr>\n",
       "      <th>z_meanfreq</th>\n",
       "      <td>-0.761064</td>\n",
       "      <td>-0.292907</td>\n",
       "      <td>-0.295208</td>\n",
       "      <td>-0.653044</td>\n",
       "      <td>-0.798872</td>\n",
       "      <td>0.703159</td>\n",
       "      <td>1.000000</td>\n",
       "      <td>0.474303</td>\n",
       "      <td>0.371094</td>\n",
       "      <td>0.255896</td>\n",
       "      <td>0.547437</td>\n",
       "      <td>0.252269</td>\n",
       "      <td>0.524504</td>\n",
       "      <td>0.519982</td>\n",
       "      <td>-0.233599</td>\n",
       "      <td>1.000000</td>\n",
       "      <td>0.927085</td>\n",
       "      <td>0.925011</td>\n",
       "      <td>0.758994</td>\n",
       "      <td>-0.673457</td>\n",
       "    </tr>\n",
       "    <tr>\n",
       "      <th>z_median</th>\n",
       "      <td>-0.593734</td>\n",
       "      <td>-0.254069</td>\n",
       "      <td>-0.245334</td>\n",
       "      <td>-0.544028</td>\n",
       "      <td>-0.681039</td>\n",
       "      <td>0.710436</td>\n",
       "      <td>0.927085</td>\n",
       "      <td>0.423266</td>\n",
       "      <td>0.336728</td>\n",
       "      <td>0.237218</td>\n",
       "      <td>0.488135</td>\n",
       "      <td>0.218869</td>\n",
       "      <td>0.460816</td>\n",
       "      <td>0.456893</td>\n",
       "      <td>-0.230005</td>\n",
       "      <td>0.927085</td>\n",
       "      <td>1.000000</td>\n",
       "      <td>0.784584</td>\n",
       "      <td>0.742905</td>\n",
       "      <td>-0.516798</td>\n",
       "    </tr>\n",
       "    <tr>\n",
       "      <th>z_Q25</th>\n",
       "      <td>-0.864655</td>\n",
       "      <td>-0.280212</td>\n",
       "      <td>-0.311618</td>\n",
       "      <td>-0.699490</td>\n",
       "      <td>-0.787767</td>\n",
       "      <td>0.602051</td>\n",
       "      <td>0.925011</td>\n",
       "      <td>0.552781</td>\n",
       "      <td>0.336769</td>\n",
       "      <td>0.208284</td>\n",
       "      <td>0.473966</td>\n",
       "      <td>0.313023</td>\n",
       "      <td>0.468190</td>\n",
       "      <td>0.462568</td>\n",
       "      <td>-0.163478</td>\n",
       "      <td>0.925011</td>\n",
       "      <td>0.784584</td>\n",
       "      <td>1.000000</td>\n",
       "      <td>0.533413</td>\n",
       "      <td>-0.885662</td>\n",
       "    </tr>\n",
       "    <tr>\n",
       "      <th>z_Q75</th>\n",
       "      <td>-0.217083</td>\n",
       "      <td>-0.211600</td>\n",
       "      <td>-0.167253</td>\n",
       "      <td>-0.244650</td>\n",
       "      <td>-0.419489</td>\n",
       "      <td>0.536980</td>\n",
       "      <td>0.758994</td>\n",
       "      <td>0.192549</td>\n",
       "      <td>0.236711</td>\n",
       "      <td>0.250017</td>\n",
       "      <td>0.417383</td>\n",
       "      <td>0.011247</td>\n",
       "      <td>0.377937</td>\n",
       "      <td>0.377757</td>\n",
       "      <td>-0.239054</td>\n",
       "      <td>0.758994</td>\n",
       "      <td>0.742905</td>\n",
       "      <td>0.533413</td>\n",
       "      <td>1.000000</td>\n",
       "      <td>-0.079667</td>\n",
       "    </tr>\n",
       "    <tr>\n",
       "      <th>Norm_IQR</th>\n",
       "      <td>0.899810</td>\n",
       "      <td>0.214066</td>\n",
       "      <td>0.275422</td>\n",
       "      <td>0.690033</td>\n",
       "      <td>0.698088</td>\n",
       "      <td>-0.414729</td>\n",
       "      <td>-0.673457</td>\n",
       "      <td>-0.545740</td>\n",
       "      <td>-0.266933</td>\n",
       "      <td>-0.108211</td>\n",
       "      <td>-0.329437</td>\n",
       "      <td>-0.362716</td>\n",
       "      <td>-0.344284</td>\n",
       "      <td>-0.337758</td>\n",
       "      <td>0.061426</td>\n",
       "      <td>-0.673457</td>\n",
       "      <td>-0.516798</td>\n",
       "      <td>-0.885662</td>\n",
       "      <td>-0.079667</td>\n",
       "      <td>1.000000</td>\n",
       "    </tr>\n",
       "  </tbody>\n",
       "</table>\n",
       "</div>"
      ],
      "text/plain": [
       "                  sd      skew      kurt    sp.ent       sfm      mode  \\\n",
       "sd          1.000000  0.268792  0.305891  0.748671  0.841054 -0.518399   \n",
       "skew        0.268792  1.000000  0.978731 -0.186965  0.052345 -0.404677   \n",
       "kurt        0.305891  0.978731  1.000000 -0.103409  0.098550 -0.377308   \n",
       "sp.ent      0.748671 -0.186965 -0.103409  1.000000  0.882300 -0.345448   \n",
       "sfm         0.841054  0.052345  0.098550  0.882300  1.000000 -0.487812   \n",
       "mode       -0.518399 -0.404677 -0.377308 -0.345448 -0.487812  1.000000   \n",
       "centroid   -0.761064 -0.292907 -0.295208 -0.653044 -0.798872  0.703159   \n",
       "meanfun    -0.466995 -0.080008 -0.119739 -0.558854 -0.434546  0.305558   \n",
       "minfun     -0.334265 -0.174601 -0.179806 -0.319500 -0.349963  0.353356   \n",
       "maxfun     -0.128949 -0.034663 -0.015390 -0.157173 -0.193208  0.170668   \n",
       "meandom    -0.445008 -0.308871 -0.283337 -0.302235 -0.412508  0.475223   \n",
       "mindom     -0.371717 -0.068304 -0.105741 -0.318209 -0.312801  0.209490   \n",
       "maxdom     -0.447752 -0.270584 -0.248240 -0.325037 -0.410816  0.456170   \n",
       "dfrange    -0.441069 -0.269368 -0.246347 -0.319313 -0.405195  0.452416   \n",
       "modindx     0.124674 -0.130912 -0.173645  0.166691  0.190494 -0.214109   \n",
       "z_meanfreq -0.761064 -0.292907 -0.295208 -0.653044 -0.798872  0.703159   \n",
       "z_median   -0.593734 -0.254069 -0.245334 -0.544028 -0.681039  0.710436   \n",
       "z_Q25      -0.864655 -0.280212 -0.311618 -0.699490 -0.787767  0.602051   \n",
       "z_Q75      -0.217083 -0.211600 -0.167253 -0.244650 -0.419489  0.536980   \n",
       "Norm_IQR    0.899810  0.214066  0.275422  0.690033  0.698088 -0.414729   \n",
       "\n",
       "            centroid   meanfun    minfun    maxfun   meandom    mindom  \\\n",
       "sd         -0.761064 -0.466995 -0.334265 -0.128949 -0.445008 -0.371717   \n",
       "skew       -0.292907 -0.080008 -0.174601 -0.034663 -0.308871 -0.068304   \n",
       "kurt       -0.295208 -0.119739 -0.179806 -0.015390 -0.283337 -0.105741   \n",
       "sp.ent     -0.653044 -0.558854 -0.319500 -0.157173 -0.302235 -0.318209   \n",
       "sfm        -0.798872 -0.434546 -0.349963 -0.193208 -0.412508 -0.312801   \n",
       "mode        0.703159  0.305558  0.353356  0.170668  0.475223  0.209490   \n",
       "centroid    1.000000  0.474303  0.371094  0.255896  0.547437  0.252269   \n",
       "meanfun     0.474303  1.000000  0.345183  0.325146  0.246622  0.163801   \n",
       "minfun      0.371094  0.345183  1.000000  0.175142  0.305936  0.123851   \n",
       "maxfun      0.255896  0.325146  0.175142  1.000000  0.320966 -0.239510   \n",
       "meandom     0.547437  0.246622  0.305936  0.320966  1.000000  0.072956   \n",
       "mindom      0.252269  0.163801  0.123851 -0.239510  0.072956  1.000000   \n",
       "maxdom      0.524504  0.257634  0.232142  0.341457  0.801566  0.012371   \n",
       "dfrange     0.519982  0.254693  0.229921  0.345801  0.800298 -0.005680   \n",
       "modindx    -0.233599 -0.088519  0.043800 -0.393378 -0.222662  0.203165   \n",
       "z_meanfreq  1.000000  0.474303  0.371094  0.255896  0.547437  0.252269   \n",
       "z_median    0.927085  0.423266  0.336728  0.237218  0.488135  0.218869   \n",
       "z_Q25       0.925011  0.552781  0.336769  0.208284  0.473966  0.313023   \n",
       "z_Q75       0.758994  0.192549  0.236711  0.250017  0.417383  0.011247   \n",
       "Norm_IQR   -0.673457 -0.545740 -0.266933 -0.108211 -0.329437 -0.362716   \n",
       "\n",
       "              maxdom   dfrange   modindx  z_meanfreq  z_median     z_Q25  \\\n",
       "sd         -0.447752 -0.441069  0.124674   -0.761064 -0.593734 -0.864655   \n",
       "skew       -0.270584 -0.269368 -0.130912   -0.292907 -0.254069 -0.280212   \n",
       "kurt       -0.248240 -0.246347 -0.173645   -0.295208 -0.245334 -0.311618   \n",
       "sp.ent     -0.325037 -0.319313  0.166691   -0.653044 -0.544028 -0.699490   \n",
       "sfm        -0.410816 -0.405195  0.190494   -0.798872 -0.681039 -0.787767   \n",
       "mode        0.456170  0.452416 -0.214109    0.703159  0.710436  0.602051   \n",
       "centroid    0.524504  0.519982 -0.233599    1.000000  0.927085  0.925011   \n",
       "meanfun     0.257634  0.254693 -0.088519    0.474303  0.423266  0.552781   \n",
       "minfun      0.232142  0.229921  0.043800    0.371094  0.336728  0.336769   \n",
       "maxfun      0.341457  0.345801 -0.393378    0.255896  0.237218  0.208284   \n",
       "meandom     0.801566  0.800298 -0.222662    0.547437  0.488135  0.473966   \n",
       "mindom      0.012371 -0.005680  0.203165    0.252269  0.218869  0.313023   \n",
       "maxdom      1.000000  0.999837 -0.462587    0.524504  0.460816  0.468190   \n",
       "dfrange     0.999837  1.000000 -0.466282    0.519982  0.456893  0.462568   \n",
       "modindx    -0.462587 -0.466282  1.000000   -0.233599 -0.230005 -0.163478   \n",
       "z_meanfreq  0.524504  0.519982 -0.233599    1.000000  0.927085  0.925011   \n",
       "z_median    0.460816  0.456893 -0.230005    0.927085  1.000000  0.784584   \n",
       "z_Q25       0.468190  0.462568 -0.163478    0.925011  0.784584  1.000000   \n",
       "z_Q75       0.377937  0.377757 -0.239054    0.758994  0.742905  0.533413   \n",
       "Norm_IQR   -0.344284 -0.337758  0.061426   -0.673457 -0.516798 -0.885662   \n",
       "\n",
       "               z_Q75  Norm_IQR  \n",
       "sd         -0.217083  0.899810  \n",
       "skew       -0.211600  0.214066  \n",
       "kurt       -0.167253  0.275422  \n",
       "sp.ent     -0.244650  0.690033  \n",
       "sfm        -0.419489  0.698088  \n",
       "mode        0.536980 -0.414729  \n",
       "centroid    0.758994 -0.673457  \n",
       "meanfun     0.192549 -0.545740  \n",
       "minfun      0.236711 -0.266933  \n",
       "maxfun      0.250017 -0.108211  \n",
       "meandom     0.417383 -0.329437  \n",
       "mindom      0.011247 -0.362716  \n",
       "maxdom      0.377937 -0.344284  \n",
       "dfrange     0.377757 -0.337758  \n",
       "modindx    -0.239054  0.061426  \n",
       "z_meanfreq  0.758994 -0.673457  \n",
       "z_median    0.742905 -0.516798  \n",
       "z_Q25       0.533413 -0.885662  \n",
       "z_Q75       1.000000 -0.079667  \n",
       "Norm_IQR   -0.079667  1.000000  "
      ]
     },
     "execution_count": 51,
     "metadata": {},
     "output_type": "execute_result"
    }
   ],
   "source": [
    "correlation_mat = X1.corr()\n",
    "correlation_mat"
   ]
  },
  {
   "cell_type": "code",
   "execution_count": 52,
   "metadata": {},
   "outputs": [
    {
     "name": "stdout",
     "output_type": "stream",
     "text": [
      "column skew  strongly correlationelates with:  Index(['kurt'], dtype='object')\n",
      "column kurt  strongly correlationelates with:  Index(['skew'], dtype='object')\n",
      "column centroid  strongly correlationelates with:  Index(['z_meanfreq', 'z_median', 'z_Q25'], dtype='object')\n",
      "column maxdom  strongly correlationelates with:  Index(['dfrange'], dtype='object')\n",
      "column dfrange  strongly correlationelates with:  Index(['maxdom'], dtype='object')\n",
      "column z_meanfreq  strongly correlationelates with:  Index(['centroid', 'z_median', 'z_Q25'], dtype='object')\n",
      "column z_median  strongly correlationelates with:  Index(['centroid', 'z_meanfreq'], dtype='object')\n",
      "column z_Q25  strongly correlationelates with:  Index(['centroid', 'z_meanfreq'], dtype='object')\n"
     ]
    }
   ],
   "source": [
    "for names in correlation_mat.index:\n",
    "    if len(correlation_mat[(correlation_mat.loc[names] > 0.9) & (correlation_mat.loc[names].index != names)].index) > 0:\n",
    "        print('column', names,' strongly correlationelates with: ',correlation_mat[(correlation_mat.loc[names] > 0.9) &(correlation_mat.loc[names].index != names)].index)\n",
    "\n"
   ]
  },
  {
   "cell_type": "code",
   "execution_count": 53,
   "metadata": {},
   "outputs": [
    {
     "data": {
      "text/html": [
       "<div>\n",
       "<style>\n",
       "    .dataframe thead tr:only-child th {\n",
       "        text-align: right;\n",
       "    }\n",
       "\n",
       "    .dataframe thead th {\n",
       "        text-align: left;\n",
       "    }\n",
       "\n",
       "    .dataframe tbody tr th {\n",
       "        vertical-align: top;\n",
       "    }\n",
       "</style>\n",
       "<table border=\"1\" class=\"dataframe\">\n",
       "  <thead>\n",
       "    <tr style=\"text-align: right;\">\n",
       "      <th></th>\n",
       "      <th>Column Name</th>\n",
       "      <th>Correlated with</th>\n",
       "    </tr>\n",
       "  </thead>\n",
       "  <tbody>\n",
       "    <tr>\n",
       "      <th>0</th>\n",
       "      <td>skew</td>\n",
       "      <td>kurt</td>\n",
       "    </tr>\n",
       "    <tr>\n",
       "      <th>1</th>\n",
       "      <td>kurt</td>\n",
       "      <td>skew</td>\n",
       "    </tr>\n",
       "    <tr>\n",
       "      <th>2</th>\n",
       "      <td>centroid</td>\n",
       "      <td>[z_meanfreq, z_median, z_Q25]</td>\n",
       "    </tr>\n",
       "    <tr>\n",
       "      <th>3</th>\n",
       "      <td>maxdom</td>\n",
       "      <td>[dfrange]</td>\n",
       "    </tr>\n",
       "    <tr>\n",
       "      <th>4</th>\n",
       "      <td>dfrange</td>\n",
       "      <td>[maxdom]</td>\n",
       "    </tr>\n",
       "    <tr>\n",
       "      <th>5</th>\n",
       "      <td>z_meanfreq</td>\n",
       "      <td>[centroid, z_median, z_Q25]</td>\n",
       "    </tr>\n",
       "    <tr>\n",
       "      <th>6</th>\n",
       "      <td>z_median</td>\n",
       "      <td>[centroid, z_meanfreq]</td>\n",
       "    </tr>\n",
       "    <tr>\n",
       "      <th>7</th>\n",
       "      <td>z_Q25</td>\n",
       "      <td>[centroid, z_meanfreq]</td>\n",
       "    </tr>\n",
       "  </tbody>\n",
       "</table>\n",
       "</div>"
      ],
      "text/plain": [
       "  Column Name                Correlated with\n",
       "0        skew                           kurt\n",
       "1        kurt                           skew\n",
       "2    centroid  [z_meanfreq, z_median, z_Q25]\n",
       "3      maxdom                      [dfrange]\n",
       "4     dfrange                       [maxdom]\n",
       "5  z_meanfreq    [centroid, z_median, z_Q25]\n",
       "6    z_median         [centroid, z_meanfreq]\n",
       "7       z_Q25         [centroid, z_meanfreq]"
      ]
     },
     "execution_count": 53,
     "metadata": {},
     "output_type": "execute_result"
    }
   ],
   "source": [
    "corr_df = pd.DataFrame([{'Column Name':'skew', 'Correlated with':'kurt'},\n",
    "                        {'Column Name':'kurt', 'Correlated with':'skew'},\n",
    "                        {'Column Name':'centroid', 'Correlated with':['z_meanfreq', 'z_median', 'z_Q25']},\n",
    "                        {'Column Name':'maxdom', 'Correlated with':['dfrange']},\n",
    "                        {'Column Name':'dfrange', 'Correlated with':['maxdom']},\n",
    "                        {'Column Name':'z_meanfreq', 'Correlated with':['centroid', 'z_median', 'z_Q25']},\n",
    "                        {'Column Name':'z_median', 'Correlated with':['centroid', 'z_meanfreq']},\n",
    "                        {'Column Name':'z_Q25', 'Correlated with':['centroid', 'z_meanfreq']},\n",
    "                        ])\n",
    "corr_df"
   ]
  },
  {
   "cell_type": "markdown",
   "metadata": {},
   "source": [
    "** We see that high correlation exists between the above variables<br/>\n",
    "lets remove kurt, Centroid, dfrange, z_meanfreq**"
   ]
  },
  {
   "cell_type": "code",
   "execution_count": 54,
   "metadata": {},
   "outputs": [
    {
     "data": {
      "text/html": [
       "<div>\n",
       "<style>\n",
       "    .dataframe thead tr:only-child th {\n",
       "        text-align: right;\n",
       "    }\n",
       "\n",
       "    .dataframe thead th {\n",
       "        text-align: left;\n",
       "    }\n",
       "\n",
       "    .dataframe tbody tr th {\n",
       "        vertical-align: top;\n",
       "    }\n",
       "</style>\n",
       "<table border=\"1\" class=\"dataframe\">\n",
       "  <thead>\n",
       "    <tr style=\"text-align: right;\">\n",
       "      <th></th>\n",
       "      <th>sd</th>\n",
       "      <th>skew</th>\n",
       "      <th>sp.ent</th>\n",
       "      <th>sfm</th>\n",
       "      <th>mode</th>\n",
       "      <th>meanfun</th>\n",
       "      <th>minfun</th>\n",
       "      <th>maxfun</th>\n",
       "      <th>meandom</th>\n",
       "      <th>mindom</th>\n",
       "      <th>maxdom</th>\n",
       "      <th>modindx</th>\n",
       "      <th>z_median</th>\n",
       "      <th>z_Q25</th>\n",
       "      <th>z_Q75</th>\n",
       "      <th>Norm_IQR</th>\n",
       "    </tr>\n",
       "  </thead>\n",
       "  <tbody>\n",
       "    <tr>\n",
       "      <th>1</th>\n",
       "      <td>0.067310</td>\n",
       "      <td>22.423285</td>\n",
       "      <td>0.892193</td>\n",
       "      <td>0.513724</td>\n",
       "      <td>0.000000</td>\n",
       "      <td>0.107937</td>\n",
       "      <td>0.015826</td>\n",
       "      <td>0.250000</td>\n",
       "      <td>0.009014</td>\n",
       "      <td>0.007812</td>\n",
       "      <td>0.054688</td>\n",
       "      <td>0.052632</td>\n",
       "      <td>-3.828504</td>\n",
       "      <td>-2.355691</td>\n",
       "      <td>-5.781683</td>\n",
       "      <td>0.246961</td>\n",
       "    </tr>\n",
       "    <tr>\n",
       "      <th>2</th>\n",
       "      <td>0.083829</td>\n",
       "      <td>30.757155</td>\n",
       "      <td>0.846389</td>\n",
       "      <td>0.478905</td>\n",
       "      <td>0.000000</td>\n",
       "      <td>0.098706</td>\n",
       "      <td>0.015656</td>\n",
       "      <td>0.271186</td>\n",
       "      <td>0.007990</td>\n",
       "      <td>0.007812</td>\n",
       "      <td>0.015625</td>\n",
       "      <td>0.046512</td>\n",
       "      <td>-3.920638</td>\n",
       "      <td>-2.570261</td>\n",
       "      <td>-4.094335</td>\n",
       "      <td>0.457148</td>\n",
       "    </tr>\n",
       "    <tr>\n",
       "      <th>3</th>\n",
       "      <td>0.072111</td>\n",
       "      <td>1.232831</td>\n",
       "      <td>0.963322</td>\n",
       "      <td>0.727232</td>\n",
       "      <td>0.083878</td>\n",
       "      <td>0.088965</td>\n",
       "      <td>0.017798</td>\n",
       "      <td>0.250000</td>\n",
       "      <td>0.201497</td>\n",
       "      <td>0.007812</td>\n",
       "      <td>0.562500</td>\n",
       "      <td>0.247119</td>\n",
       "      <td>-0.737091</td>\n",
       "      <td>-0.810072</td>\n",
       "      <td>-0.824403</td>\n",
       "      <td>0.407358</td>\n",
       "    </tr>\n",
       "  </tbody>\n",
       "</table>\n",
       "</div>"
      ],
      "text/plain": [
       "         sd       skew    sp.ent       sfm      mode   meanfun    minfun  \\\n",
       "1  0.067310  22.423285  0.892193  0.513724  0.000000  0.107937  0.015826   \n",
       "2  0.083829  30.757155  0.846389  0.478905  0.000000  0.098706  0.015656   \n",
       "3  0.072111   1.232831  0.963322  0.727232  0.083878  0.088965  0.017798   \n",
       "\n",
       "     maxfun   meandom    mindom    maxdom   modindx  z_median     z_Q25  \\\n",
       "1  0.250000  0.009014  0.007812  0.054688  0.052632 -3.828504 -2.355691   \n",
       "2  0.271186  0.007990  0.007812  0.015625  0.046512 -3.920638 -2.570261   \n",
       "3  0.250000  0.201497  0.007812  0.562500  0.247119 -0.737091 -0.810072   \n",
       "\n",
       "      z_Q75  Norm_IQR  \n",
       "1 -5.781683  0.246961  \n",
       "2 -4.094335  0.457148  \n",
       "3 -0.824403  0.407358  "
      ]
     },
     "execution_count": 54,
     "metadata": {},
     "output_type": "execute_result"
    }
   ],
   "source": [
    "X2 = X1.drop(['kurt', 'centroid', 'dfrange', 'z_meanfreq'],axis=1).copy()\n",
    "X2.head(3)"
   ]
  },
  {
   "cell_type": "code",
   "execution_count": 56,
   "metadata": {},
   "outputs": [],
   "source": [
    "# let us do a 80-20 split on the cleaned dataset\n",
    "X2_train,X2_test,y2_train,y2_test=train_test_split(X2,y,train_size=0.8,test_size=0.2,random_state=1)"
   ]
  },
  {
   "cell_type": "code",
   "execution_count": 58,
   "metadata": {},
   "outputs": [
    {
     "data": {
      "text/plain": [
       "(1966, 16)"
      ]
     },
     "execution_count": 58,
     "metadata": {},
     "output_type": "execute_result"
    }
   ],
   "source": [
    "X2_train.shape"
   ]
  },
  {
   "cell_type": "code",
   "execution_count": 59,
   "metadata": {},
   "outputs": [
    {
     "data": {
      "text/plain": [
       "(492, 16)"
      ]
     },
     "execution_count": 59,
     "metadata": {},
     "output_type": "execute_result"
    }
   ],
   "source": [
    "X2_test.shape"
   ]
  },
  {
   "cell_type": "code",
   "execution_count": 60,
   "metadata": {},
   "outputs": [
    {
     "data": {
      "text/plain": [
       "(1966,)"
      ]
     },
     "execution_count": 60,
     "metadata": {},
     "output_type": "execute_result"
    }
   ],
   "source": [
    "y2_train.shape"
   ]
  },
  {
   "cell_type": "code",
   "execution_count": 62,
   "metadata": {},
   "outputs": [
    {
     "data": {
      "text/plain": [
       "(492,)"
      ]
     },
     "execution_count": 62,
     "metadata": {},
     "output_type": "execute_result"
    }
   ],
   "source": [
    "y2_test.shape"
   ]
  },
  {
   "cell_type": "code",
   "execution_count": 63,
   "metadata": {},
   "outputs": [
    {
     "name": "stdout",
     "output_type": "stream",
     "text": [
      "Mean accuracy with 5 fold cross validation on Naive Bayes with dimention reduced data:  0.969495603119\n"
     ]
    }
   ],
   "source": [
    "nbclf = naive_bayes.GaussianNB()\n",
    "nbclf = nbclf.fit(X2_train, y2_train)\n",
    "nbpreds_test = nbclf.predict(X2_test)\n",
    "nb_eval_result = cross_val_score(nbclf, X2, y, cv=5, scoring='accuracy')\n",
    "print('Mean accuracy with 5 fold cross validation on Naive Bayes with dimention reduced data: ',nb_eval_result.mean())"
   ]
  },
  {
   "cell_type": "markdown",
   "metadata": {},
   "source": [
    "** we see a significant improvement in accuracy as compared to the accuracy of raw data we classified with**"
   ]
  },
  {
   "cell_type": "markdown",
   "metadata": {},
   "source": [
    "**Let's buid kernels with svm**"
   ]
  },
  {
   "cell_type": "code",
   "execution_count": 64,
   "metadata": {
    "collapsed": true
   },
   "outputs": [],
   "source": [
    "def funct_svm(kernal_type,xTrain,yTrain,xTest,yTest):\n",
    "    svm_obj=SVC(kernel=kernal_type)\n",
    "    svm_obj.fit(xTrain,yTrain)\n",
    "    yPredicted=svm_obj.predict(xTest)\n",
    "    print('Accuracy Score of',kernal_type,'Kernal SVM is:',metrics.accuracy_score(yTest,yPredicted))\n",
    "    return metrics.accuracy_score(yTest,yPredicted)"
   ]
  },
  {
   "cell_type": "code",
   "execution_count": 67,
   "metadata": {},
   "outputs": [
    {
     "name": "stdout",
     "output_type": "stream",
     "text": [
      "The slowest run took 84.59 times longer than the fastest. This could mean that an intermediate result is being cached.\n",
      "10000000 loops, best of 3: 15.4 ns per loop\n",
      "Accuracy Score of linear Kernal SVM is: 0.941056910569\n"
     ]
    }
   ],
   "source": [
    "#linear kernel\n",
    "%timeit 10\n",
    "linear_result = funct_svm('linear',X2_train,y2_train,X2_test,y2_test)"
   ]
  },
  {
   "cell_type": "code",
   "execution_count": 69,
   "metadata": {},
   "outputs": [
    {
     "name": "stdout",
     "output_type": "stream",
     "text": [
      "The slowest run took 78.48 times longer than the fastest. This could mean that an intermediate result is being cached.\n",
      "100000000 loops, best of 3: 15.6 ns per loop\n",
      "Accuracy Score of rbf Kernal SVM is: 0.955284552846\n"
     ]
    }
   ],
   "source": [
    "#gaussian/rbf kernel\n",
    "%timeit 10\n",
    "rbf_result = funct_svm('rbf',X2_train,y2_train,X2_test,y2_test)"
   ]
  },
  {
   "cell_type": "code",
   "execution_count": 71,
   "metadata": {},
   "outputs": [
    {
     "name": "stdout",
     "output_type": "stream",
     "text": [
      "The slowest run took 75.46 times longer than the fastest. This could mean that an intermediate result is being cached.\n",
      "100000000 loops, best of 3: 15.3 ns per loop\n",
      "Accuracy Score of poly Kernal SVM is: 0.951219512195\n"
     ]
    }
   ],
   "source": [
    "#polynomial kernel\n",
    "\n",
    "%timeit 10\n",
    "poly_result = funct_svm('poly',X2_train,y2_train,X2_test,y2_test)"
   ]
  },
  {
   "cell_type": "code",
   "execution_count": 73,
   "metadata": {},
   "outputs": [
    {
     "name": "stdout",
     "output_type": "stream",
     "text": [
      "The slowest run took 83.19 times longer than the fastest. This could mean that an intermediate result is being cached.\n",
      "100000000 loops, best of 3: 15.3 ns per loop\n",
      "Accuracy Score of sigmoid Kernal SVM is: 0.678861788618\n"
     ]
    }
   ],
   "source": [
    "#sigmoid kernel\n",
    "%timeit 10\n",
    "DR_sigmoid_result = funct_svm('sigmoid',X2_train,y2_train,X2_test,y2_test)"
   ]
  },
  {
   "cell_type": "markdown",
   "metadata": {},
   "source": [
    "** dataset is behaving well linearly, it is explicitly known that it doesn't work well in a sigmoidal space**<br/>\n",
    "_the voice dataset is both linearly and gaussian seperable_"
   ]
  },
  {
   "cell_type": "markdown",
   "metadata": {},
   "source": [
    "**LETS COMPLETELY NORMALIZE THE DATA AND SEE THE ABOVE RESULTS**"
   ]
  },
  {
   "cell_type": "code",
   "execution_count": 75,
   "metadata": {
    "collapsed": true
   },
   "outputs": [],
   "source": [
    "# let me not do any dimentionality reduction and do z-score normalization on all independent variables\n",
    "xDataStdardized = StandardScaler()\n",
    "xDataStdardized.fit(X)\n",
    "X3 = xDataStdardized.transform(X).copy()"
   ]
  },
  {
   "cell_type": "code",
   "execution_count": 78,
   "metadata": {},
   "outputs": [
    {
     "data": {
      "text/html": [
       "<div>\n",
       "<style>\n",
       "    .dataframe thead tr:only-child th {\n",
       "        text-align: right;\n",
       "    }\n",
       "\n",
       "    .dataframe thead th {\n",
       "        text-align: left;\n",
       "    }\n",
       "\n",
       "    .dataframe tbody tr th {\n",
       "        vertical-align: top;\n",
       "    }\n",
       "</style>\n",
       "<table border=\"1\" class=\"dataframe\">\n",
       "  <thead>\n",
       "    <tr style=\"text-align: right;\">\n",
       "      <th></th>\n",
       "      <th>meanfreq</th>\n",
       "      <th>sd</th>\n",
       "      <th>median</th>\n",
       "      <th>Q25</th>\n",
       "      <th>Q75</th>\n",
       "      <th>IQR</th>\n",
       "      <th>skew</th>\n",
       "      <th>kurt</th>\n",
       "      <th>sp.ent</th>\n",
       "      <th>sfm</th>\n",
       "      <th>mode</th>\n",
       "      <th>centroid</th>\n",
       "      <th>meanfun</th>\n",
       "      <th>minfun</th>\n",
       "      <th>maxfun</th>\n",
       "      <th>meandom</th>\n",
       "      <th>mindom</th>\n",
       "      <th>maxdom</th>\n",
       "      <th>dfrange</th>\n",
       "      <th>modindx</th>\n",
       "    </tr>\n",
       "  </thead>\n",
       "  <tbody>\n",
       "    <tr>\n",
       "      <th>0</th>\n",
       "      <td>-3.721597</td>\n",
       "      <td>0.544377</td>\n",
       "      <td>-3.829283</td>\n",
       "      <td>-2.356170</td>\n",
       "      <td>-5.782859</td>\n",
       "      <td>-0.397800</td>\n",
       "      <td>5.075036</td>\n",
       "      <td>4.855087</td>\n",
       "      <td>-0.102172</td>\n",
       "      <td>0.554202</td>\n",
       "      <td>-2.145988</td>\n",
       "      <td>-3.721597</td>\n",
       "      <td>-1.004514</td>\n",
       "      <td>-1.135221</td>\n",
       "      <td>-0.305371</td>\n",
       "      <td>-1.659948</td>\n",
       "      <td>-0.683626</td>\n",
       "      <td>-1.471597</td>\n",
       "      <td>-1.459346</td>\n",
       "      <td>-0.995844</td>\n",
       "    </tr>\n",
       "    <tr>\n",
       "      <th>1</th>\n",
       "      <td>-3.355401</td>\n",
       "      <td>1.537541</td>\n",
       "      <td>-3.921435</td>\n",
       "      <td>-2.570784</td>\n",
       "      <td>-4.095168</td>\n",
       "      <td>0.781574</td>\n",
       "      <td>7.236841</td>\n",
       "      <td>7.993543</td>\n",
       "      <td>-1.089783</td>\n",
       "      <td>0.363138</td>\n",
       "      <td>-2.145988</td>\n",
       "      <td>-3.355401</td>\n",
       "      <td>-1.275017</td>\n",
       "      <td>-1.143789</td>\n",
       "      <td>0.389022</td>\n",
       "      <td>-1.662045</td>\n",
       "      <td>-0.683626</td>\n",
       "      <td>-1.483124</td>\n",
       "      <td>-1.470873</td>\n",
       "      <td>-1.045086</td>\n",
       "    </tr>\n",
       "    <tr>\n",
       "      <th>2</th>\n",
       "      <td>-0.961569</td>\n",
       "      <td>0.832992</td>\n",
       "      <td>-0.737241</td>\n",
       "      <td>-0.810237</td>\n",
       "      <td>-0.824571</td>\n",
       "      <td>0.502200</td>\n",
       "      <td>-0.421765</td>\n",
       "      <td>-0.214160</td>\n",
       "      <td>1.431488</td>\n",
       "      <td>1.725800</td>\n",
       "      <td>-1.079112</td>\n",
       "      <td>-0.961569</td>\n",
       "      <td>-1.560500</td>\n",
       "      <td>-1.036055</td>\n",
       "      <td>-0.305371</td>\n",
       "      <td>-1.266012</td>\n",
       "      <td>-0.683626</td>\n",
       "      <td>-1.321742</td>\n",
       "      <td>-1.309482</td>\n",
       "      <td>0.569030</td>\n",
       "    </tr>\n",
       "  </tbody>\n",
       "</table>\n",
       "</div>"
      ],
      "text/plain": [
       "   meanfreq        sd    median       Q25       Q75       IQR      skew  \\\n",
       "0 -3.721597  0.544377 -3.829283 -2.356170 -5.782859 -0.397800  5.075036   \n",
       "1 -3.355401  1.537541 -3.921435 -2.570784 -4.095168  0.781574  7.236841   \n",
       "2 -0.961569  0.832992 -0.737241 -0.810237 -0.824571  0.502200 -0.421765   \n",
       "\n",
       "       kurt    sp.ent       sfm      mode  centroid   meanfun    minfun  \\\n",
       "0  4.855087 -0.102172  0.554202 -2.145988 -3.721597 -1.004514 -1.135221   \n",
       "1  7.993543 -1.089783  0.363138 -2.145988 -3.355401 -1.275017 -1.143789   \n",
       "2 -0.214160  1.431488  1.725800 -1.079112 -0.961569 -1.560500 -1.036055   \n",
       "\n",
       "     maxfun   meandom    mindom    maxdom   dfrange   modindx  \n",
       "0 -0.305371 -1.659948 -0.683626 -1.471597 -1.459346 -0.995844  \n",
       "1  0.389022 -1.662045 -0.683626 -1.483124 -1.470873 -1.045086  \n",
       "2 -0.305371 -1.266012 -0.683626 -1.321742 -1.309482  0.569030  "
      ]
     },
     "execution_count": 78,
     "metadata": {},
     "output_type": "execute_result"
    }
   ],
   "source": [
    "X3 = pd.DataFrame(X3, columns=columns[0:20])\n",
    "X3.head(3)"
   ]
  },
  {
   "cell_type": "code",
   "execution_count": 79,
   "metadata": {
    "collapsed": true
   },
   "outputs": [],
   "source": [
    "X3_train,X3_test,y3_train,y3_test=train_test_split(X3,y,train_size=0.8,test_size=0.2,random_state=1)"
   ]
  },
  {
   "cell_type": "code",
   "execution_count": 80,
   "metadata": {},
   "outputs": [
    {
     "data": {
      "text/plain": [
       "(1966, 20)"
      ]
     },
     "execution_count": 80,
     "metadata": {},
     "output_type": "execute_result"
    }
   ],
   "source": [
    "X3_train.shape"
   ]
  },
  {
   "cell_type": "code",
   "execution_count": 81,
   "metadata": {},
   "outputs": [
    {
     "data": {
      "text/plain": [
       "(492, 20)"
      ]
     },
     "execution_count": 81,
     "metadata": {},
     "output_type": "execute_result"
    }
   ],
   "source": [
    "X3_test.shape"
   ]
  },
  {
   "cell_type": "code",
   "execution_count": 82,
   "metadata": {},
   "outputs": [
    {
     "data": {
      "text/plain": [
       "(1966,)"
      ]
     },
     "execution_count": 82,
     "metadata": {},
     "output_type": "execute_result"
    }
   ],
   "source": [
    "y3_train.shape"
   ]
  },
  {
   "cell_type": "code",
   "execution_count": 83,
   "metadata": {},
   "outputs": [
    {
     "data": {
      "text/plain": [
       "(492,)"
      ]
     },
     "execution_count": 83,
     "metadata": {},
     "output_type": "execute_result"
    }
   ],
   "source": [
    "y3_test.shape"
   ]
  },
  {
   "cell_type": "code",
   "execution_count": 84,
   "metadata": {},
   "outputs": [
    {
     "name": "stdout",
     "output_type": "stream",
     "text": [
      "The slowest run took 180.16 times longer than the fastest. This could mean that an intermediate result is being cached.\n",
      "100000000 loops, best of 3: 15.3 ns per loop\n",
      "Accuracy Score of linear Kernal SVM is: 0.993902439024\n"
     ]
    }
   ],
   "source": [
    "#linear kernel with fully normalized data\n",
    "%timeit 10\n",
    "linear_result = funct_svm('linear',X3_train,y3_train,X3_test,y3_test)"
   ]
  },
  {
   "cell_type": "code",
   "execution_count": 85,
   "metadata": {},
   "outputs": [
    {
     "name": "stdout",
     "output_type": "stream",
     "text": [
      "The slowest run took 116.19 times longer than the fastest. This could mean that an intermediate result is being cached.\n",
      "100000000 loops, best of 3: 15.3 ns per loop\n",
      "Accuracy Score of rbf Kernal SVM is: 0.993902439024\n"
     ]
    }
   ],
   "source": [
    "#gaussian/rbf kernel with fully normalized data\n",
    "%timeit 10\n",
    "rbf_result = funct_svm('rbf',X3_train,y3_train,X3_test,y3_test)"
   ]
  },
  {
   "cell_type": "code",
   "execution_count": 86,
   "metadata": {},
   "outputs": [
    {
     "name": "stdout",
     "output_type": "stream",
     "text": [
      "The slowest run took 76.23 times longer than the fastest. This could mean that an intermediate result is being cached.\n",
      "100000000 loops, best of 3: 15.4 ns per loop\n",
      "Accuracy Score of poly Kernal SVM is: 0.985772357724\n"
     ]
    }
   ],
   "source": [
    "#polynomial kernel with fully normalized data\n",
    "\n",
    "%timeit 10\n",
    "poly_result = funct_svm('poly',X3_train,y3_train,X3_test,y3_test)"
   ]
  },
  {
   "cell_type": "markdown",
   "metadata": {},
   "source": [
    "** We see that linear and gaussian kernels give us the highest accuracy with fully normalized data and polynomial performs relatively better than thepolynomial kernel for cleaned data we used earlier**"
   ]
  },
  {
   "cell_type": "code",
   "execution_count": 87,
   "metadata": {},
   "outputs": [
    {
     "name": "stdout",
     "output_type": "stream",
     "text": [
      "The slowest run took 70.10 times longer than the fastest. This could mean that an intermediate result is being cached.\n",
      "100000000 loops, best of 3: 15.3 ns per loop\n",
      "Accuracy Score of sigmoid Kernal SVM is: 0.831300813008\n"
     ]
    }
   ],
   "source": [
    "#sigmoid kernel with fully normalized data\n",
    "%timeit 10\n",
    "DR_sigmoid_result = funct_svm('sigmoid',X3_train,y3_train,X3_test,y3_test)"
   ]
  },
  {
   "cell_type": "markdown",
   "metadata": {},
   "source": [
    "**Lets perform crossvalidation with k=5 on our models**"
   ]
  },
  {
   "cell_type": "markdown",
   "metadata": {},
   "source": [
    "***Linear Kernel***"
   ]
  },
  {
   "cell_type": "code",
   "execution_count": 88,
   "metadata": {
    "collapsed": true
   },
   "outputs": [],
   "source": [
    "def funct_svm_cv(kernal_type,xData,yData,k,eval_param):\n",
    "    svm_obj=SVC(kernel=kernal_type)\n",
    "    eval_result = cross_val_score(svm_obj, xData, yData, cv=k, scoring=eval_param)\n",
    "    print(eval_param,'of each fold is:',eval_result)\n",
    "    print('Mean accuracy with 5 fold cross validation for',kernal_type,' kernal SVM is: ',eval_result.mean())\n",
    "    return eval_result.mean()"
   ]
  },
  {
   "cell_type": "code",
   "execution_count": 96,
   "metadata": {},
   "outputs": [
    {
     "name": "stdout",
     "output_type": "stream",
     "text": [
      "The slowest run took 81.94 times longer than the fastest. This could mean that an intermediate result is being cached.\n",
      "100000000 loops, best of 3: 15.4 ns per loop\n",
      "accuracy of each fold is: [ 0.79065041  0.91056911  0.97764228  0.99593496  0.94081633]\n",
      "Mean accuracy with 5 fold cross validation for linear  kernal SVM is:  0.9231226149\n"
     ]
    }
   ],
   "source": [
    "#Linear kernel on cleaned data with 5 folds\n",
    "%timeit 10\n",
    "CV_linear_result = funct_svm_cv('linear',X2,y,5,'accuracy')\n"
   ]
  },
  {
   "cell_type": "code",
   "execution_count": 91,
   "metadata": {},
   "outputs": [
    {
     "name": "stdout",
     "output_type": "stream",
     "text": [
      "The slowest run took 72.21 times longer than the fastest. This could mean that an intermediate result is being cached.\n",
      "100000000 loops, best of 3: 15.4 ns per loop\n",
      "accuracy of each fold is: [ 0.99186992  0.97764228  1.          1.          1.        ]\n",
      "Mean accuracy with 5 fold cross validation for linear  kernal SVM is:  0.993902439024\n"
     ]
    }
   ],
   "source": [
    "#Linear kernel on normalized data with 5 folds\n",
    "%timeit 10\n",
    "CN_CV_linear_result = funct_svm_cv('linear',X3,y,5,'accuracy')\n"
   ]
  },
  {
   "cell_type": "markdown",
   "metadata": {},
   "source": [
    "***Gaussian/rbf kernel***"
   ]
  },
  {
   "cell_type": "code",
   "execution_count": 92,
   "metadata": {},
   "outputs": [
    {
     "name": "stdout",
     "output_type": "stream",
     "text": [
      "The slowest run took 58.30 times longer than the fastest. This could mean that an intermediate result is being cached.\n",
      "100000000 loops, best of 3: 18.5 ns per loop\n",
      "accuracy of each fold is: [ 0.83333333  0.91869919  0.98170732  0.97560976  0.94489796]\n",
      "Mean accuracy with 5 fold cross validation for rbf  kernal SVM is:  0.930849510536\n"
     ]
    }
   ],
   "source": [
    "#Gaussian kernel on cleaned data with 5 folds\n",
    "%timeit 10\n",
    "CV_rbf_result = funct_svm_cv('rbf',X2,y,5,'accuracy')"
   ]
  },
  {
   "cell_type": "code",
   "execution_count": 93,
   "metadata": {},
   "outputs": [
    {
     "name": "stdout",
     "output_type": "stream",
     "text": [
      "The slowest run took 65.20 times longer than the fastest. This could mean that an intermediate result is being cached.\n",
      "100000000 loops, best of 3: 15.3 ns per loop\n",
      "accuracy of each fold is: [ 0.9695122   0.97357724  0.9898374   1.          1.        ]\n",
      "Mean accuracy with 5 fold cross validation for rbf  kernal SVM is:  0.986585365854\n"
     ]
    }
   ],
   "source": [
    "#Gaussian kernel on normalized data with 5 folds\n",
    "%timeit 10\n",
    "CV_rbf_result = funct_svm_cv('rbf',X3,y,5,'accuracy')"
   ]
  },
  {
   "cell_type": "markdown",
   "metadata": {},
   "source": [
    "***Polynomial kernel***"
   ]
  },
  {
   "cell_type": "code",
   "execution_count": 94,
   "metadata": {},
   "outputs": [
    {
     "name": "stdout",
     "output_type": "stream",
     "text": [
      "The slowest run took 99.94 times longer than the fastest. This could mean that an intermediate result is being cached.\n",
      "100000000 loops, best of 3: 15.3 ns per loop\n",
      "accuracy of each fold is: [ 0.8699187   0.91666667  0.98170732  0.98780488  0.96122449]\n",
      "Mean accuracy with 5 fold cross validation for poly  kernal SVM is:  0.943464410154\n"
     ]
    }
   ],
   "source": [
    "#polynomial kernel on cleaned data with 5 folds\n",
    "%timeit 10\n",
    "CV_rbf_result = funct_svm_cv('poly',X2,y,5,'accuracy')"
   ]
  },
  {
   "cell_type": "code",
   "execution_count": 95,
   "metadata": {},
   "outputs": [
    {
     "name": "stdout",
     "output_type": "stream",
     "text": [
      "100000000 loops, best of 3: 15.3 ns per loop\n",
      "accuracy of each fold is: [ 0.95934959  0.96747967  0.97560976  0.98780488  0.98367347]\n",
      "Mean accuracy with 5 fold cross validation for poly  kernal SVM is:  0.974783474365\n"
     ]
    }
   ],
   "source": [
    "#polynomial kernel on normalized data with 5 folds\n",
    "%timeit 10\n",
    "CV_rbf_result = funct_svm_cv('poly',X3,y,5,'accuracy')"
   ]
  },
  {
   "cell_type": "markdown",
   "metadata": {},
   "source": [
    "**Hyper parameter tuning with 5 fold cross validation**"
   ]
  },
  {
   "cell_type": "code",
   "execution_count": null,
   "metadata": {
    "collapsed": true
   },
   "outputs": [],
   "source": [
    "#c range from 1-10"
   ]
  },
  {
   "cell_type": "code",
   "execution_count": 97,
   "metadata": {
    "collapsed": true
   },
   "outputs": [],
   "source": [
    "def funct_tune_svm(kernal_type,margin_val,xData,yData,k,eval_param):\n",
    "    if(kernal_type=='linear'):\n",
    "        svm_obj=SVC(kernel=kernal_type,C=margin_val)\n",
    "    elif(kernal_type=='rbf'):\n",
    "        svm_obj=SVC(kernel=kernal_type,gamma=margin_val)\n",
    "    elif(kernal_type=='poly'):\n",
    "        svm_obj=SVC(kernel=kernal_type,degree=margin_val) \n",
    "    eval_result = cross_val_score(svm_obj, xData, yData, cv=k, scoring=eval_param)\n",
    "    return eval_result.mean()"
   ]
  },
  {
   "cell_type": "markdown",
   "metadata": {},
   "source": [
    "**Hyper parameter Tuning completely normalized data(Linear)**"
   ]
  },
  {
   "cell_type": "code",
   "execution_count": 98,
   "metadata": {
    "collapsed": true
   },
   "outputs": [],
   "source": [
    "accu_list = list()\n",
    "for c in np.arange(0.1,10,0.5):\n",
    "    result = funct_tune_svm('linear',c,X3,y,5,'accuracy')\n",
    "    accu_list.append(result)"
   ]
  },
  {
   "cell_type": "code",
   "execution_count": 102,
   "metadata": {},
   "outputs": [
    {
     "data": {
      "text/plain": [
       "<matplotlib.text.Text at 0x7f8b13660860>"
      ]
     },
     "execution_count": 102,
     "metadata": {},
     "output_type": "execute_result"
    },
    {
     "data": {
      "image/png": "[encoded data removed]",
      "text/plain": [
       "<matplotlib.figure.Figure at 0x7f8b138eb5f8>"
      ]
     },
     "metadata": {},
     "output_type": "display_data"
    }
   ],
   "source": [
    "C_values=np.arange(0.1,10,0.5)\n",
    "# value of C for SVM (x-axis) versus the cross-validated accuracy (y-axis)\n",
    "fig=plt.figure(figsize=(10, 7), dpi= 80, facecolor='w', edgecolor='k')\n",
    "plt.plot(C_values,accu_list)\n",
    "plt.xticks(np.arange(0.1,10,0.5))\n",
    "plt.xlabel('Value of C for SVC')\n",
    "plt.ylabel('Cross-Validated Accuracy')"
   ]
  },
  {
   "cell_type": "code",
   "execution_count": 103,
   "metadata": {},
   "outputs": [
    {
     "data": {
      "text/html": [
       "<div>\n",
       "<style>\n",
       "    .dataframe thead tr:only-child th {\n",
       "        text-align: right;\n",
       "    }\n",
       "\n",
       "    .dataframe thead th {\n",
       "        text-align: left;\n",
       "    }\n",
       "\n",
       "    .dataframe tbody tr th {\n",
       "        vertical-align: top;\n",
       "    }\n",
       "</style>\n",
       "<table border=\"1\" class=\"dataframe\">\n",
       "  <thead>\n",
       "    <tr style=\"text-align: right;\">\n",
       "      <th></th>\n",
       "      <th>Penality Parameter C</th>\n",
       "      <th>Accuracy</th>\n",
       "    </tr>\n",
       "  </thead>\n",
       "  <tbody>\n",
       "    <tr>\n",
       "      <th>0</th>\n",
       "      <td>0.1</td>\n",
       "      <td>0.993089</td>\n",
       "    </tr>\n",
       "    <tr>\n",
       "      <th>1</th>\n",
       "      <td>0.6</td>\n",
       "      <td>0.993902</td>\n",
       "    </tr>\n",
       "    <tr>\n",
       "      <th>2</th>\n",
       "      <td>1.1</td>\n",
       "      <td>0.993496</td>\n",
       "    </tr>\n",
       "    <tr>\n",
       "      <th>3</th>\n",
       "      <td>1.6</td>\n",
       "      <td>0.993089</td>\n",
       "    </tr>\n",
       "    <tr>\n",
       "      <th>4</th>\n",
       "      <td>2.1</td>\n",
       "      <td>0.993089</td>\n",
       "    </tr>\n",
       "    <tr>\n",
       "      <th>5</th>\n",
       "      <td>2.6</td>\n",
       "      <td>0.993089</td>\n",
       "    </tr>\n",
       "    <tr>\n",
       "      <th>6</th>\n",
       "      <td>3.1</td>\n",
       "      <td>0.993089</td>\n",
       "    </tr>\n",
       "    <tr>\n",
       "      <th>7</th>\n",
       "      <td>3.6</td>\n",
       "      <td>0.992683</td>\n",
       "    </tr>\n",
       "    <tr>\n",
       "      <th>8</th>\n",
       "      <td>4.1</td>\n",
       "      <td>0.992276</td>\n",
       "    </tr>\n",
       "    <tr>\n",
       "      <th>9</th>\n",
       "      <td>4.6</td>\n",
       "      <td>0.991463</td>\n",
       "    </tr>\n",
       "    <tr>\n",
       "      <th>10</th>\n",
       "      <td>5.1</td>\n",
       "      <td>0.991463</td>\n",
       "    </tr>\n",
       "    <tr>\n",
       "      <th>11</th>\n",
       "      <td>5.6</td>\n",
       "      <td>0.991463</td>\n",
       "    </tr>\n",
       "    <tr>\n",
       "      <th>12</th>\n",
       "      <td>6.1</td>\n",
       "      <td>0.991870</td>\n",
       "    </tr>\n",
       "    <tr>\n",
       "      <th>13</th>\n",
       "      <td>6.6</td>\n",
       "      <td>0.991870</td>\n",
       "    </tr>\n",
       "    <tr>\n",
       "      <th>14</th>\n",
       "      <td>7.1</td>\n",
       "      <td>0.991870</td>\n",
       "    </tr>\n",
       "    <tr>\n",
       "      <th>15</th>\n",
       "      <td>7.6</td>\n",
       "      <td>0.991870</td>\n",
       "    </tr>\n",
       "    <tr>\n",
       "      <th>16</th>\n",
       "      <td>8.1</td>\n",
       "      <td>0.991870</td>\n",
       "    </tr>\n",
       "    <tr>\n",
       "      <th>17</th>\n",
       "      <td>8.6</td>\n",
       "      <td>0.991870</td>\n",
       "    </tr>\n",
       "    <tr>\n",
       "      <th>18</th>\n",
       "      <td>9.1</td>\n",
       "      <td>0.991870</td>\n",
       "    </tr>\n",
       "    <tr>\n",
       "      <th>19</th>\n",
       "      <td>9.6</td>\n",
       "      <td>0.991870</td>\n",
       "    </tr>\n",
       "  </tbody>\n",
       "</table>\n",
       "</div>"
      ],
      "text/plain": [
       "    Penality Parameter C  Accuracy\n",
       "0                    0.1  0.993089\n",
       "1                    0.6  0.993902\n",
       "2                    1.1  0.993496\n",
       "3                    1.6  0.993089\n",
       "4                    2.1  0.993089\n",
       "5                    2.6  0.993089\n",
       "6                    3.1  0.993089\n",
       "7                    3.6  0.992683\n",
       "8                    4.1  0.992276\n",
       "9                    4.6  0.991463\n",
       "10                   5.1  0.991463\n",
       "11                   5.6  0.991463\n",
       "12                   6.1  0.991870\n",
       "13                   6.6  0.991870\n",
       "14                   7.1  0.991870\n",
       "15                   7.6  0.991870\n",
       "16                   8.1  0.991870\n",
       "17                   8.6  0.991870\n",
       "18                   9.1  0.991870\n",
       "19                   9.6  0.991870"
      ]
     },
     "execution_count": 103,
     "metadata": {},
     "output_type": "execute_result"
    }
   ],
   "source": [
    "tuning_linear_svm = pd.DataFrame(columns=['Penality Parameter C', 'Accuracy'])\n",
    "tuning_linear_svm['Penality Parameter C'] = np.arange(0.1,10,0.5)\n",
    "tuning_linear_svm['Accuracy'] = accu_list\n",
    "tuning_linear_svm"
   ]
  },
  {
   "cell_type": "markdown",
   "metadata": {},
   "source": [
    "**Tuning RBF/Gaussian**"
   ]
  },
  {
   "cell_type": "code",
   "execution_count": 104,
   "metadata": {
    "collapsed": true
   },
   "outputs": [],
   "source": [
    "# with normlized dataset\n",
    "accu_list = list()\n",
    "for c in np.arange(0.1,10,1):\n",
    "    result = funct_tune_svm('rbf',c,X3,y,5,'accuracy')\n",
    "    accu_list.append(result)"
   ]
  },
  {
   "cell_type": "code",
   "execution_count": 105,
   "metadata": {},
   "outputs": [
    {
     "data": {
      "text/plain": [
       "<matplotlib.text.Text at 0x7f8b135d1dd8>"
      ]
     },
     "execution_count": 105,
     "metadata": {},
     "output_type": "execute_result"
    },
    {
     "data": {
      "image/png": "[encoded data removed]",
      "text/plain": [
       "<matplotlib.figure.Figure at 0x7f8b13c439b0>"
      ]
     },
     "metadata": {},
     "output_type": "display_data"
    }
   ],
   "source": [
    "C_values=list(range(0,10))\n",
    "# value of C for SVM (x-axis) versus the cross-validated accuracy (y-axis)\n",
    "fig=plt.figure(figsize=(10, 7), dpi= 80, facecolor='w', edgecolor='k')\n",
    "plt.plot(C_values,accu_list)\n",
    "plt.xticks(np.arange(0,10,1))\n",
    "plt.xlabel('Value of Gamma for SVC')\n",
    "plt.ylabel('Cross-Validated Accuracy')"
   ]
  },
  {
   "cell_type": "code",
   "execution_count": 106,
   "metadata": {},
   "outputs": [
    {
     "data": {
      "text/html": [
       "<div>\n",
       "<style>\n",
       "    .dataframe thead tr:only-child th {\n",
       "        text-align: right;\n",
       "    }\n",
       "\n",
       "    .dataframe thead th {\n",
       "        text-align: left;\n",
       "    }\n",
       "\n",
       "    .dataframe tbody tr th {\n",
       "        vertical-align: top;\n",
       "    }\n",
       "</style>\n",
       "<table border=\"1\" class=\"dataframe\">\n",
       "  <thead>\n",
       "    <tr style=\"text-align: right;\">\n",
       "      <th></th>\n",
       "      <th>Parameter Gamma</th>\n",
       "      <th>Accuracy</th>\n",
       "    </tr>\n",
       "  </thead>\n",
       "  <tbody>\n",
       "    <tr>\n",
       "      <th>0</th>\n",
       "      <td>0.1</td>\n",
       "      <td>0.981289</td>\n",
       "    </tr>\n",
       "    <tr>\n",
       "      <th>1</th>\n",
       "      <td>1.1</td>\n",
       "      <td>0.866114</td>\n",
       "    </tr>\n",
       "    <tr>\n",
       "      <th>2</th>\n",
       "      <td>2.1</td>\n",
       "      <td>0.739190</td>\n",
       "    </tr>\n",
       "    <tr>\n",
       "      <th>3</th>\n",
       "      <td>3.1</td>\n",
       "      <td>0.682660</td>\n",
       "    </tr>\n",
       "    <tr>\n",
       "      <th>4</th>\n",
       "      <td>4.1</td>\n",
       "      <td>0.644832</td>\n",
       "    </tr>\n",
       "    <tr>\n",
       "      <th>5</th>\n",
       "      <td>5.1</td>\n",
       "      <td>0.627340</td>\n",
       "    </tr>\n",
       "    <tr>\n",
       "      <th>6</th>\n",
       "      <td>6.1</td>\n",
       "      <td>0.621239</td>\n",
       "    </tr>\n",
       "    <tr>\n",
       "      <th>7</th>\n",
       "      <td>7.1</td>\n",
       "      <td>0.618392</td>\n",
       "    </tr>\n",
       "    <tr>\n",
       "      <th>8</th>\n",
       "      <td>8.1</td>\n",
       "      <td>0.617579</td>\n",
       "    </tr>\n",
       "    <tr>\n",
       "      <th>9</th>\n",
       "      <td>9.1</td>\n",
       "      <td>0.616765</td>\n",
       "    </tr>\n",
       "  </tbody>\n",
       "</table>\n",
       "</div>"
      ],
      "text/plain": [
       "   Parameter Gamma  Accuracy\n",
       "0              0.1  0.981289\n",
       "1              1.1  0.866114\n",
       "2              2.1  0.739190\n",
       "3              3.1  0.682660\n",
       "4              4.1  0.644832\n",
       "5              5.1  0.627340\n",
       "6              6.1  0.621239\n",
       "7              7.1  0.618392\n",
       "8              8.1  0.617579\n",
       "9              9.1  0.616765"
      ]
     },
     "execution_count": 106,
     "metadata": {},
     "output_type": "execute_result"
    }
   ],
   "source": [
    "tuning_rbf_svm = pd.DataFrame(columns=['Parameter Gamma', 'Accuracy'])\n",
    "tuning_rbf_svm['Parameter Gamma'] = np.arange(0.1,10,1)\n",
    "tuning_rbf_svm['Accuracy'] = accu_list\n",
    "tuning_rbf_svm"
   ]
  },
  {
   "cell_type": "code",
   "execution_count": 108,
   "metadata": {},
   "outputs": [
    {
     "data": {
      "text/plain": [
       "<matplotlib.text.Text at 0x7f8b134c85c0>"
      ]
     },
     "execution_count": 108,
     "metadata": {},
     "output_type": "execute_result"
    },
    {
     "data": {
      "image/png": "[encoded data removed]",
      "text/plain": [
       "<matplotlib.figure.Figure at 0x7f8b135be8d0>"
      ]
     },
     "metadata": {},
     "output_type": "display_data"
    }
   ],
   "source": [
    "# lets dig a little deeper\n",
    "accu_list = list()\n",
    "for c in np.arange(0.001,0.01,0.001):\n",
    "    result = funct_tune_svm('rbf',c,X3,y,5,'accuracy')\n",
    "    accu_list.append(result)\n",
    "    \n",
    "C_values=list(np.arange(0.001,0.01,0.001))\n",
    "# value of C for SVM (x-axis) versus the cross-validated accuracy (y-axis)\n",
    "fig=plt.figure(figsize=(10, 7), dpi= 80, facecolor='w', edgecolor='k')\n",
    "plt.plot(C_values,accu_list)\n",
    "plt.xticks(np.arange(0.001,0.01,0.001))\n",
    "plt.xlabel('Value of Gamma for SVC')\n",
    "plt.ylabel('Cross-Validated Accuracy')"
   ]
  },
  {
   "cell_type": "code",
   "execution_count": 109,
   "metadata": {},
   "outputs": [
    {
     "data": {
      "text/html": [
       "<div>\n",
       "<style>\n",
       "    .dataframe thead tr:only-child th {\n",
       "        text-align: right;\n",
       "    }\n",
       "\n",
       "    .dataframe thead th {\n",
       "        text-align: left;\n",
       "    }\n",
       "\n",
       "    .dataframe tbody tr th {\n",
       "        vertical-align: top;\n",
       "    }\n",
       "</style>\n",
       "<table border=\"1\" class=\"dataframe\">\n",
       "  <thead>\n",
       "    <tr style=\"text-align: right;\">\n",
       "      <th></th>\n",
       "      <th>Parameter Gamma</th>\n",
       "      <th>Accuracy</th>\n",
       "    </tr>\n",
       "  </thead>\n",
       "  <tbody>\n",
       "    <tr>\n",
       "      <th>0</th>\n",
       "      <td>0.001</td>\n",
       "      <td>0.960562</td>\n",
       "    </tr>\n",
       "    <tr>\n",
       "      <th>1</th>\n",
       "      <td>0.002</td>\n",
       "      <td>0.989837</td>\n",
       "    </tr>\n",
       "    <tr>\n",
       "      <th>2</th>\n",
       "      <td>0.003</td>\n",
       "      <td>0.991057</td>\n",
       "    </tr>\n",
       "    <tr>\n",
       "      <th>3</th>\n",
       "      <td>0.004</td>\n",
       "      <td>0.990650</td>\n",
       "    </tr>\n",
       "    <tr>\n",
       "      <th>4</th>\n",
       "      <td>0.005</td>\n",
       "      <td>0.991057</td>\n",
       "    </tr>\n",
       "    <tr>\n",
       "      <th>5</th>\n",
       "      <td>0.006</td>\n",
       "      <td>0.990650</td>\n",
       "    </tr>\n",
       "    <tr>\n",
       "      <th>6</th>\n",
       "      <td>0.007</td>\n",
       "      <td>0.990650</td>\n",
       "    </tr>\n",
       "    <tr>\n",
       "      <th>7</th>\n",
       "      <td>0.008</td>\n",
       "      <td>0.990650</td>\n",
       "    </tr>\n",
       "    <tr>\n",
       "      <th>8</th>\n",
       "      <td>0.009</td>\n",
       "      <td>0.990650</td>\n",
       "    </tr>\n",
       "  </tbody>\n",
       "</table>\n",
       "</div>"
      ],
      "text/plain": [
       "   Parameter Gamma  Accuracy\n",
       "0            0.001  0.960562\n",
       "1            0.002  0.989837\n",
       "2            0.003  0.991057\n",
       "3            0.004  0.990650\n",
       "4            0.005  0.991057\n",
       "5            0.006  0.990650\n",
       "6            0.007  0.990650\n",
       "7            0.008  0.990650\n",
       "8            0.009  0.990650"
      ]
     },
     "execution_count": 109,
     "metadata": {},
     "output_type": "execute_result"
    }
   ],
   "source": [
    "tuning_rbf_svm = pd.DataFrame(columns=['Parameter Gamma', 'Accuracy'])\n",
    "tuning_rbf_svm['Parameter Gamma'] = np.arange(0.001,0.01,0.001)\n",
    "tuning_rbf_svm['Accuracy'] = accu_list\n",
    "tuning_rbf_svm"
   ]
  },
  {
   "cell_type": "markdown",
   "metadata": {},
   "source": [
    "**Tuning polynomial kernel**"
   ]
  },
  {
   "cell_type": "code",
   "execution_count": 113,
   "metadata": {},
   "outputs": [
    {
     "data": {
      "text/plain": [
       "<matplotlib.text.Text at 0x7f8b13c59e48>"
      ]
     },
     "execution_count": 113,
     "metadata": {},
     "output_type": "execute_result"
    },
    {
     "data": {
      "image/png": "[encoded data removed]",
      "text/plain": [
       "<matplotlib.figure.Figure at 0x7f8b13d6fa58>"
      ]
     },
     "metadata": {},
     "output_type": "display_data"
    }
   ],
   "source": [
    "accu_list = list()\n",
    "for c in np.arange(0.1,10,1):\n",
    "    result = funct_tune_svm('poly',c,X3,y,5,'accuracy')\n",
    "    accu_list.append(result)\n",
    "    \n",
    "C_values=list(np.arange(0.1,10,1))\n",
    "# value of C for SVM (x-axis) versus the cross-validated accuracy (y-axis)\n",
    "fig=plt.figure(figsize=(10, 7), dpi= 80, facecolor='w', edgecolor='k')\n",
    "plt.plot(C_values,accu_list)\n",
    "plt.xticks(np.arange(0.1,10,1))\n",
    "plt.xlabel('Value of C for SVC')\n",
    "plt.ylabel('Cross-Validated Accuracy')"
   ]
  },
  {
   "cell_type": "code",
   "execution_count": 114,
   "metadata": {},
   "outputs": [
    {
     "data": {
      "text/html": [
       "<div>\n",
       "<style>\n",
       "    .dataframe thead tr:only-child th {\n",
       "        text-align: right;\n",
       "    }\n",
       "\n",
       "    .dataframe thead th {\n",
       "        text-align: left;\n",
       "    }\n",
       "\n",
       "    .dataframe tbody tr th {\n",
       "        vertical-align: top;\n",
       "    }\n",
       "</style>\n",
       "<table border=\"1\" class=\"dataframe\">\n",
       "  <thead>\n",
       "    <tr style=\"text-align: right;\">\n",
       "      <th></th>\n",
       "      <th>Parameter Degree</th>\n",
       "      <th>Accuracy</th>\n",
       "    </tr>\n",
       "  </thead>\n",
       "  <tbody>\n",
       "    <tr>\n",
       "      <th>0</th>\n",
       "      <td>0.1</td>\n",
       "      <td>0.615948</td>\n",
       "    </tr>\n",
       "    <tr>\n",
       "      <th>1</th>\n",
       "      <td>1.1</td>\n",
       "      <td>0.993089</td>\n",
       "    </tr>\n",
       "    <tr>\n",
       "      <th>2</th>\n",
       "      <td>2.1</td>\n",
       "      <td>0.904793</td>\n",
       "    </tr>\n",
       "    <tr>\n",
       "      <th>3</th>\n",
       "      <td>3.1</td>\n",
       "      <td>0.974783</td>\n",
       "    </tr>\n",
       "    <tr>\n",
       "      <th>4</th>\n",
       "      <td>4.1</td>\n",
       "      <td>0.895480</td>\n",
       "    </tr>\n",
       "    <tr>\n",
       "      <th>5</th>\n",
       "      <td>5.1</td>\n",
       "      <td>0.916632</td>\n",
       "    </tr>\n",
       "    <tr>\n",
       "      <th>6</th>\n",
       "      <td>6.1</td>\n",
       "      <td>0.851958</td>\n",
       "    </tr>\n",
       "    <tr>\n",
       "      <th>7</th>\n",
       "      <td>7.1</td>\n",
       "      <td>0.864161</td>\n",
       "    </tr>\n",
       "    <tr>\n",
       "      <th>8</th>\n",
       "      <td>8.1</td>\n",
       "      <td>0.825925</td>\n",
       "    </tr>\n",
       "    <tr>\n",
       "      <th>9</th>\n",
       "      <td>9.1</td>\n",
       "      <td>0.834472</td>\n",
       "    </tr>\n",
       "  </tbody>\n",
       "</table>\n",
       "</div>"
      ],
      "text/plain": [
       "   Parameter Degree  Accuracy\n",
       "0               0.1  0.615948\n",
       "1               1.1  0.993089\n",
       "2               2.1  0.904793\n",
       "3               3.1  0.974783\n",
       "4               4.1  0.895480\n",
       "5               5.1  0.916632\n",
       "6               6.1  0.851958\n",
       "7               7.1  0.864161\n",
       "8               8.1  0.825925\n",
       "9               9.1  0.834472"
      ]
     },
     "execution_count": 114,
     "metadata": {},
     "output_type": "execute_result"
    }
   ],
   "source": [
    "tuning_poly_svm = pd.DataFrame(columns=['Parameter Degree', 'Accuracy'])\n",
    "tuning_poly_svm['Parameter Degree'] = np.arange(0.1,10,1)\n",
    "tuning_poly_svm['Accuracy'] = accu_list\n",
    "tuning_poly_svm"
   ]
  },
  {
   "cell_type": "markdown",
   "metadata": {},
   "source": [
    "**Let's do some grid search to find best parameters**"
   ]
  },
  {
   "cell_type": "code",
   "execution_count": 115,
   "metadata": {},
   "outputs": [
    {
     "name": "stdout",
     "output_type": "stream",
     "text": [
      "0.993927125506\n"
     ]
    }
   ],
   "source": [
    "# SVM by taking hyperparameter C=0.6 and kernel as linear\n",
    "svc=SVC(kernel='linear',C=0.6)\n",
    "scores = cross_val_score(svc, X3, y, cv=10, scoring='accuracy')\n",
    "print(scores.mean())"
   ]
  },
  {
   "cell_type": "code",
   "execution_count": 116,
   "metadata": {},
   "outputs": [
    {
     "data": {
      "text/plain": [
       "0.99390243902439024"
      ]
     },
     "execution_count": 116,
     "metadata": {},
     "output_type": "execute_result"
    }
   ],
   "source": [
    "# With rbf gamma value = 0.01\n",
    "svc= SVC(kernel='rbf',gamma=0.005)\n",
    "svc.fit(X3_train,y3_train)\n",
    "y_predict=svc.predict(X3_test)\n",
    "metrics.accuracy_score(y3_test,y_predict)"
   ]
  },
  {
   "cell_type": "code",
   "execution_count": 117,
   "metadata": {},
   "outputs": [
    {
     "name": "stdout",
     "output_type": "stream",
     "text": [
      "0.992370295015\n",
      "{'C': 1.6, 'degree': 1, 'gamma': 0.005, 'kernel': 'poly'}\n"
     ]
    }
   ],
   "source": [
    "#grid search with different tuning parameters\n",
    "svm_obj= SVC()\n",
    "grid_parameters = {\n",
    " 'C': [0.1,0.6,1.1,1.6] , 'kernel': ['linear'],\n",
    " 'C': [0.1,0.6,1.1,1.6] , 'gamma': [0.002,0.003,0.004,0.005], 'kernel': ['rbf'],\n",
    " 'degree': [1,2,3] ,'gamma':[0.002,0.003,0.004,0.005], 'C':[0.1,0.6,1.1,1.6] , 'kernel':['poly']\n",
    "                   }\n",
    "model_svm = GridSearchCV(svm_obj, grid_parameters,cv=10,scoring='accuracy')\n",
    "model_svm.fit(X3_train, y3_train)\n",
    "print(model_svm.best_score_)\n",
    "print(model_svm.best_params_)\n",
    "y_pred= model_svm.predict(X3_test)"
   ]
  },
  {
   "cell_type": "code",
   "execution_count": 119,
   "metadata": {},
   "outputs": [
    {
     "data": {
      "text/plain": [
       "0.99390243902439024"
      ]
     },
     "execution_count": 119,
     "metadata": {},
     "output_type": "execute_result"
    }
   ],
   "source": [
    "svm_performance = metrics.accuracy_score(y_pred,y3_test)\n",
    "svm_performance"
   ]
  },
  {
   "cell_type": "code",
   "execution_count": 120,
   "metadata": {},
   "outputs": [
    {
     "data": {
      "text/html": [
       "<div>\n",
       "<style>\n",
       "    .dataframe thead tr:only-child th {\n",
       "        text-align: right;\n",
       "    }\n",
       "\n",
       "    .dataframe thead th {\n",
       "        text-align: left;\n",
       "    }\n",
       "\n",
       "    .dataframe tbody tr th {\n",
       "        vertical-align: top;\n",
       "    }\n",
       "</style>\n",
       "<table border=\"1\" class=\"dataframe\">\n",
       "  <thead>\n",
       "    <tr style=\"text-align: right;\">\n",
       "      <th></th>\n",
       "      <th>kernel</th>\n",
       "      <th>C</th>\n",
       "      <th>gamma</th>\n",
       "      <th>degree</th>\n",
       "    </tr>\n",
       "  </thead>\n",
       "  <tbody>\n",
       "    <tr>\n",
       "      <th>0</th>\n",
       "      <td>poly</td>\n",
       "      <td>1.6</td>\n",
       "      <td>0.005</td>\n",
       "      <td>1</td>\n",
       "    </tr>\n",
       "  </tbody>\n",
       "</table>\n",
       "</div>"
      ],
      "text/plain": [
       "  kernel    C  gamma  degree\n",
       "0   poly  1.6  0.005       1"
      ]
     },
     "execution_count": 120,
     "metadata": {},
     "output_type": "execute_result"
    }
   ],
   "source": [
    "gridSearch_kernal_result = pd.DataFrame([{'kernel': 'poly', 'gamma': 0.005, 'degree': 1, 'C': 1.6}],columns=['kernel','C','gamma','degree'])\n",
    "gridSearch_kernal_result"
   ]
  },
  {
   "cell_type": "markdown",
   "metadata": {},
   "source": [
    "**We can see that polynomial kernal with <br/>\n",
    "penalty measure of C=1.6 and gamma = 0.005 and with degree=1 gives<br/>\n",
    "highest accuracy of 0.9939 in classifying the target variable.**"
   ]
  },
  {
   "cell_type": "code",
   "execution_count": null,
   "metadata": {
    "collapsed": true
   },
   "outputs": [],
   "source": []
  },
  {
   "cell_type": "markdown",
   "metadata": {},
   "source": [
    "**FINALLY !!!!<BR/>\n",
    "LET'S VISUALIZE THE RESULTS**"
   ]
  },
  {
   "cell_type": "code",
   "execution_count": 124,
   "metadata": {},
   "outputs": [
    {
     "data": {
      "text/plain": [
       "<matplotlib.collections.PathCollection at 0x7f8b1334ae10>"
      ]
     },
     "execution_count": 124,
     "metadata": {},
     "output_type": "execute_result"
    },
    {
     "data": {
      "image/png": "[encoded data removed]",
      "text/plain": [
       "<matplotlib.figure.Figure at 0x7f8b13385eb8>"
      ]
     },
     "metadata": {},
     "output_type": "display_data"
    }
   ],
   "source": [
    "#Scatter plot with strong correlation\n",
    "plt.scatter(df['meanfreq'],df['centroid'])"
   ]
  },
  {
   "cell_type": "code",
   "execution_count": 125,
   "metadata": {},
   "outputs": [
    {
     "data": {
      "text/plain": [
       "<matplotlib.collections.PathCollection at 0x7f8b13254518>"
      ]
     },
     "execution_count": 125,
     "metadata": {},
     "output_type": "execute_result"
    },
    {
     "data": {
      "image/png": "[encoded data removed]",
      "text/plain": [
       "<matplotlib.figure.Figure at 0x7f8b133976d8>"
      ]
     },
     "metadata": {},
     "output_type": "display_data"
    }
   ],
   "source": [
    "#Scatter plot with weak correlation \n",
    "plt.scatter(df['modindx'],df['minfun'])"
   ]
  },
  {
   "cell_type": "code",
   "execution_count": 126,
   "metadata": {},
   "outputs": [
    {
     "data": {
      "text/plain": [
       "<matplotlib.collections.PathCollection at 0x7f8b131e00b8>"
      ]
     },
     "execution_count": 126,
     "metadata": {},
     "output_type": "execute_result"
    },
    {
     "data": {
      "image/png": "[encoded data removed]",
      "text/plain": [
       "<matplotlib.figure.Figure at 0x7f8b1329ce80>"
      ]
     },
     "metadata": {},
     "output_type": "display_data"
    }
   ],
   "source": [
    "#Scatter plot with moderate correlation\n",
    "plt.scatter(df['dfrange'],df['centroid'])"
   ]
  },
  {
   "cell_type": "code",
   "execution_count": 127,
   "metadata": {},
   "outputs": [
    {
     "data": {
      "text/plain": [
       "<matplotlib.collections.PathCollection at 0x7f8b13160c88>"
      ]
     },
     "execution_count": 127,
     "metadata": {},
     "output_type": "execute_result"
    },
    {
     "data": {
      "image/png": "[encoded data removed]",
      "text/plain": [
       "<matplotlib.figure.Figure at 0x7f8b13eeb828>"
      ]
     },
     "metadata": {},
     "output_type": "display_data"
    }
   ],
   "source": [
    "#Scatter plot with moderate negative correlation\n",
    "plt.scatter(df['meanfun'],df['sp.ent'])"
   ]
  },
  {
   "cell_type": "code",
   "execution_count": 132,
   "metadata": {},
   "outputs": [
    {
     "data": {
      "image/png": "[encoded data removed]",
      "text/plain": [
       "<matplotlib.figure.Figure at 0x7f8b12f89240>"
      ]
     },
     "metadata": {},
     "output_type": "display_data"
    }
   ],
   "source": [
    "#lets import some data (**TRIVIAL**)\n",
    "X11 = X3[['meanfun','sp.ent']].copy()\n",
    "X11 = np.array(X11)\n",
    "y = np.array(y)\n",
    "\n",
    "# fit the model, no regularization for illustration purposes\n",
    "clf = SVC(kernel='poly', degree=1.1, gamma = 0.05,C=1.6)\n",
    "clf.fit(X11, y)\n",
    "\n",
    "# title for the plots\n",
    "title = ('SVC with poly kernel(with degree=1.1 & gamma=0.05 & C=1.6)')\n",
    "\n",
    "plt.scatter(X11[:, 0], X11[:, 1], c=y, s=30, cmap=plt.cm.Paired)\n",
    "\n",
    "# plot the decision function\n",
    "ax = plt.gca()\n",
    "xlim = ax.get_xlim()\n",
    "ylim = ax.get_ylim()\n",
    "\n",
    "# create grid to evaluate model\n",
    "xx = np.linspace(xlim[0], xlim[1], 30)\n",
    "yy = np.linspace(ylim[0], ylim[1], 30)\n",
    "YY, XX = np.meshgrid(yy, xx)\n",
    "xy = np.vstack([XX.ravel(), YY.ravel()]).T\n",
    "Z = clf.decision_function(xy).reshape(XX.shape)\n",
    "\n",
    "# plot decision boundary and margins\n",
    "ax.contour(XX, YY, Z, colors='k', levels=[-1, 0, 1], alpha=0.5,\n",
    "           linestyles=['--', '-', '--'])\n",
    "# plot support vectors\n",
    "ax.scatter(clf.support_vectors_[:, 0], clf.support_vectors_[:, 1], s=100,\n",
    "           linewidth=1, facecolors='none')\n",
    "ax.set_xlabel('meanfun')\n",
    "ax.set_ylabel('sp.ent')\n",
    "ax.set_title(title)\n",
    "plt.show()"
   ]
  },
  {
   "cell_type": "code",
   "execution_count": 135,
   "metadata": {},
   "outputs": [
    {
     "data": {
      "text/plain": [
       "<matplotlib.figure.Figure at 0x7f8b12f40ba8>"
      ]
     },
     "metadata": {},
     "output_type": "display_data"
    },
    {
     "data": {
      "image/png": "[encoded data removed]",
      "text/plain": [
       "<matplotlib.figure.Figure at 0x7f8b12c77b38>"
      ]
     },
     "metadata": {},
     "output_type": "display_data"
    }
   ],
   "source": [
    "def make_meshgrid(x, y, h=.02):\n",
    "    \"\"\"Create a mesh of points to plot in\n",
    "\n",
    "    Parameters\n",
    "    ----------\n",
    "    x: data to base x-axis meshgrid on\n",
    "    y: data to base y-axis meshgrid on\n",
    "    h: stepsize for meshgrid, optional\n",
    "\n",
    "    Returns\n",
    "    -------\n",
    "    xx, yy : ndarray\n",
    "    \"\"\"\n",
    "    x_min, x_max = x.min() - 1, x.max() + 1\n",
    "    y_min, y_max = y.min() - 1, y.max() + 1\n",
    "    xx, yy = np.meshgrid(np.arange(x_min, x_max, h),\n",
    "                         np.arange(y_min, y_max, h))\n",
    "    return xx, yy\n",
    "\n",
    "\n",
    "def plot_contours(ax, clf, xx, yy, **params):\n",
    "    \"\"\"Plot the decision boundaries for a classifier.\n",
    "\n",
    "    Parameters\n",
    "    ----------\n",
    "    ax: matplotlib axes object\n",
    "    clf: a classifier\n",
    "    xx: meshgrid ndarray\n",
    "    yy: meshgrid ndarray\n",
    "    params: dictionary of params to pass to contourf, optional\n",
    "    \"\"\"\n",
    "    Z = clf.predict(np.c_[xx.ravel(), yy.ravel()])\n",
    "    Z = Z.reshape(xx.shape)\n",
    "    out = ax.contourf(xx, yy, Z, **params)\n",
    "    return out\n",
    "\n",
    "# import some data to play with\n",
    "X11 = X3[['meanfun','sp.ent']].copy()\n",
    "X11 = np.array(X11)\n",
    "y = np.array(y)\n",
    "\n",
    "C = 1.6  # SVM regularization parameter\n",
    "models = (SVC(kernel='linear', C=C),\n",
    "          svm.LinearSVC(C=C),\n",
    "          SVC(kernel='rbf', gamma=0.005, C=C),\n",
    "          SVC(kernel='poly', degree=1, gamma=0.005, C=C))\n",
    "models = (clf.fit(X11, y) for clf in models)\n",
    "\n",
    "# title for the plots\n",
    "titles = ('SVC with linear kernel (C=1.6)',\n",
    "          'LinearSVC (linear kernel)',\n",
    "          'RBF kernel(gamma=0.005)',\n",
    "          'Polynomial (degree 1)')\n",
    "\n",
    "# Set-up 2x2 grid for plotting.\n",
    "fig=plt.figure(figsize=(10, 7), dpi= 80, facecolor='w', edgecolor='k')\n",
    "fig, sub = plt.subplots(2, 2)\n",
    "plt.subplots_adjust(wspace=0.4, hspace=0.4)\n",
    "\n",
    "X0, X12 = X11[:, 0], X11[:, 1]\n",
    "xx, yy = make_meshgrid(X0, X12)\n",
    "\n",
    "for clf, title, ax in zip(models, titles, sub.flatten()):\n",
    "    plot_contours(ax, clf, xx, yy,\n",
    "                  cmap=plt.cm.coolwarm, alpha=0.8)\n",
    "    ax.scatter(X0, X12, c=y, cmap=plt.cm.coolwarm, s=20, edgecolors='k')\n",
    "    ax.set_xlim(xx.min(), xx.max())\n",
    "    ax.set_ylim(yy.min(), yy.max())\n",
    "    ax.set_xlabel('meanfun')\n",
    "    ax.set_ylabel('sp.ent')\n",
    "    ax.set_xticks(())\n",
    "    ax.set_yticks(())\n",
    "    ax.set_title(title)\n",
    "\n",
    "plt.show()"
   ]
  },
  {
   "cell_type": "code",
   "execution_count": null,
   "metadata": {
    "collapsed": true
   },
   "outputs": [],
   "source": []
  }
 ],
 "metadata": {
  "kernelspec": {
   "display_name": "Python 3",
   "language": "python",
   "name": "python3"
  },
  "language_info": {
   "codemirror_mode": {
    "name": "ipython",
    "version": 3
   },
   "file_extension": ".py",
   "mimetype": "text/x-python",
   "name": "python",
   "nbconvert_exporter": "python",
   "pygments_lexer": "ipython3",
   "version": "3.6.1"
  }
 },
 "nbformat": 4,
 "nbformat_minor": 2
}
